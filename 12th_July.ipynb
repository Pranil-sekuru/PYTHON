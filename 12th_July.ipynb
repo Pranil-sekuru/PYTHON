{
  "nbformat": 4,
  "nbformat_minor": 0,
  "metadata": {
    "colab": {
      "name": "12th July.ipynb",
      "version": "0.3.2",
      "provenance": [],
      "collapsed_sections": [],
      "include_colab_link": true
    },
    "kernelspec": {
      "name": "python3",
      "display_name": "Python 3"
    }
  },
  "cells": [
    {
      "cell_type": "markdown",
      "metadata": {
        "id": "view-in-github",
        "colab_type": "text"
      },
      "source": [
        "<a href=\"https://colab.research.google.com/github/Pranil-sekuru/PYTHON/blob/master/12th_July.ipynb\" target=\"_parent\"><img src=\"https://colab.research.google.com/assets/colab-badge.svg\" alt=\"Open In Colab\"/></a>"
      ]
    },
    {
      "cell_type": "markdown",
      "metadata": {
        "id": "eeDvXsggSPe4",
        "colab_type": "text"
      },
      "source": [
        "### Regular Expression\n",
        "\n",
        "- Pattern Matching \n",
        "- Patterns (re) package\n",
        "- [0-9] \n",
        "\n",
        "Regex - \n",
        "\n",
        "[0-9] - test\n",
        "\n",
        "1, 2, 8, 4  - input\n",
        "\n",
        "[0-9] [2]  -- accepts a two digit number ending with 2\n",
        "\n",
        "[0-9] {2} -- accepts any two digit number\n",
        "\n",
        "[0-9] {2} $ -- accept only the last two digits of any number\n",
        "\n",
        "  ^  - start\n",
        "\n",
        "  0-9  - range\n",
        "\n",
        "  {2}  - two digits \n",
        "\n",
        "  $  - end\n",
        "  "
      ]
    },
    {
      "cell_type": "markdown",
      "metadata": {
        "id": "DD1X7GjpZPJB",
        "colab_type": "text"
      },
      "source": [
        "## Regular Expression for characters \n",
        "\n",
        "- [a-z] --> Any lower case characters\n",
        "- [A-Z] --> Any upper case characters\n",
        "\n",
        "- ^[a-z]{5}$--> It accepts 5 lower case characters \n",
        "\n",
        "- ^[a-zA-Z]{8}$ --> Accepts 8 characters, lower and upper case\n",
        "\n",
        "- ^[a-zA-Z0-9]{8}$ --> Accepts 8 characters of upper, lower, or numbers\n",
        "\n"
      ]
    },
    {
      "cell_type": "code",
      "metadata": {
        "id": "OBlM435xSmVB",
        "colab_type": "code",
        "colab": {
          "base_uri": "https://localhost:8080/",
          "height": 51
        },
        "outputId": "a51aa9c6-70d8-482f-d07e-a030d396e28f"
      },
      "source": [
        "# Function to test two digit no. matching\n",
        "\n",
        "import re\n",
        "def twoDigitM(n) :\n",
        "  pattern = '^[0-9]{2}$' \n",
        "  n = str(n)\n",
        "  if re.match(pattern,n) :\n",
        "    return True \n",
        "  return False\n",
        "\n",
        "print(twoDigitM(12))\n",
        "twoDigitM(123)\n"
      ],
      "execution_count": 1,
      "outputs": [
        {
          "output_type": "stream",
          "text": [
            "True\n"
          ],
          "name": "stdout"
        },
        {
          "output_type": "execute_result",
          "data": {
            "text/plain": [
              "False"
            ]
          },
          "metadata": {
            "tags": []
          },
          "execution_count": 1
        }
      ]
    },
    {
      "cell_type": "code",
      "metadata": {
        "id": "4TPZKzP0aaJH",
        "colab_type": "code",
        "colab": {
          "base_uri": "https://localhost:8080/",
          "height": 51
        },
        "outputId": "e070bf0f-933f-4efd-d8df-d857da523934"
      },
      "source": [
        "# Function to define to test username having 8 characters \n",
        "# Upper case and lower\n",
        "\n",
        "def testUsername(s) :\n",
        "  pattern = '^[a-zA-Z]{8}$'\n",
        "  if re.match(pattern,s) :\n",
        "    return True\n",
        "  return False\n",
        "\n",
        "print(testUsername('GitamHYD'))\n",
        "print(testUsername('Gitam188'))\n"
      ],
      "execution_count": 2,
      "outputs": [
        {
          "output_type": "stream",
          "text": [
            "True\n",
            "False\n"
          ],
          "name": "stdout"
        }
      ]
    },
    {
      "cell_type": "markdown",
      "metadata": {
        "id": "i7niHNCPfPLf",
        "colab_type": "text"
      },
      "source": [
        "### Regular expression to match the Indian Mobile no.\n",
        "\n",
        "- 10 digits \n",
        "- First digit - [6-9]\n",
        "- rest 9 digits - [0-9]\n",
        "- ex: 9988776655\n",
        "\n",
        "- Re  -  ^[6-9][0-9]{9}$ \n"
      ]
    },
    {
      "cell_type": "code",
      "metadata": {
        "id": "pXpPChk0fRrW",
        "colab_type": "code",
        "colab": {
          "base_uri": "https://localhost:8080/",
          "height": 51
        },
        "outputId": "33689364-0264-4f7d-8e6d-52ada128ea51"
      },
      "source": [
        "# Function to validate the Indian phone number\n",
        "\n",
        "def phNo(phone) :\n",
        "  pattern =  '^[+][9][1][6-9][0-9]{9}$|[0][6-9][0-9]{9}$|[6-9][0-9]{9}$'\n",
        "  phone= str(phone)\n",
        "  if re.match(pattern, phone) :\n",
        "    return True\n",
        "  return False\n",
        "\n",
        "print(phNo(9988776655))\n",
        "print(phNo('+919988776655'))\n"
      ],
      "execution_count": 10,
      "outputs": [
        {
          "output_type": "stream",
          "text": [
            "True\n",
            "True\n"
          ],
          "name": "stdout"
        }
      ]
    },
    {
      "cell_type": "markdown",
      "metadata": {
        "id": "mbTHHiCKlFIt",
        "colab_type": "text"
      },
      "source": [
        "R E to validate Roll Number\n",
        "\n",
        "- ex: 1521A0501\n",
        "- ex: 1521A0109\n",
        "- ex: 1521A0499\n",
        "\n",
        "R E to validate the password \n",
        "- Parameters : length Min 6 characters and Max 15 characters\n",
        "- Accept lower case, upper case, digits spl char (@,#,!)\n"
      ]
    },
    {
      "cell_type": "code",
      "metadata": {
        "id": "VoRetWOxlqtV",
        "colab_type": "code",
        "colab": {
          "base_uri": "https://localhost:8080/",
          "height": 51
        },
        "outputId": "896985ae-9e10-4c20-cfed-1e351b2939de"
      },
      "source": [
        "\n",
        "def rollNo(pas) :\n",
        "  pattern =  '^[a-zA-Z0-9@#!]{6,15}$'\n",
        "  pas= str(pas)\n",
        "  if re.match(pattern, pas) :\n",
        "    return True\n",
        "  return False\n",
        "\n",
        "print(passWord('password@123'))\n",
        "print(passWord('pass1'))"
      ],
      "execution_count": 14,
      "outputs": [
        {
          "output_type": "stream",
          "text": [
            "True\n",
            "False\n"
          ],
          "name": "stdout"
        }
      ]
    },
    {
      "cell_type": "code",
      "metadata": {
        "id": "vO35VQW-oeCy",
        "colab_type": "code",
        "colab": {
          "base_uri": "https://localhost:8080/",
          "height": 51
        },
        "outputId": "2ef2eaf7-4968-43da-d840-f00106a71bb9"
      },
      "source": [
        "def mailId(Id) :\n",
        "  pattern =  '^[a-zA-Z0-9.]{1,64}[@][a-z0-9]{0,64}[.][c][o][m]$'\n",
        "  Id = str(Id)\n",
        "  if re.match(pattern, Id) :\n",
        "    return True\n",
        "  return False\n",
        "\n",
        "print(mailId('password@123.com'))\n",
        "print(mailId('pass1'))"
      ],
      "execution_count": 19,
      "outputs": [
        {
          "output_type": "stream",
          "text": [
            "True\n",
            "False\n"
          ],
          "name": "stdout"
        }
      ]
    },
    {
      "cell_type": "code",
      "metadata": {
        "id": "wqxEAzVw2W_Q",
        "colab_type": "code",
        "colab": {
          "base_uri": "https://localhost:8080/",
          "height": 68
        },
        "outputId": "0ca3f1cb-5e43-43eb-db6e-e9af420b9781"
      },
      "source": [
        "# Date format \n",
        "\n",
        "def date(d) :\n",
        "  pattern = '^[0-9]{2}[/][1-12]{2}[/][0-9]{4}|^[0-9]{2}[-][1-12]{2}[-][0-9]{4}|^[0-9]{2}[ ][A-Z][a-z]{2}[ ][0-9]{4}'\n",
        "  if re.match(pattern, d) :\n",
        "    return True\n",
        "  return False\n",
        "\n",
        "print(date('22-12-1999'))\n",
        "print(date('22 Dec 1999'))\n",
        "print(date('Dec 22 1999'))\n"
      ],
      "execution_count": 21,
      "outputs": [
        {
          "output_type": "stream",
          "text": [
            "True\n",
            "True\n",
            "False\n"
          ],
          "name": "stdout"
        }
      ]
    },
    {
      "cell_type": "markdown",
      "metadata": {
        "id": "XO42SZx38ehv",
        "colab_type": "text"
      },
      "source": [
        "### Python Turtle\n",
        "\n",
        "- Turtle Graphics\n"
      ]
    },
    {
      "cell_type": "code",
      "metadata": {
        "id": "hxjdVgsB8i_r",
        "colab_type": "code",
        "colab": {}
      },
      "source": [
        "# Step - 1  : Make all the turtle package to be imported\n",
        "import turtle\n",
        "\n",
        "# Turtle method to creates and returns a new object\n",
        "a1 = turtle.Turtle()\n",
        "\n",
        "# forward() method moves 100 pixels\n",
        "turtle.forward(250)\n",
        "\n",
        "# We are done\n",
        "turtle.done()"
      ],
      "execution_count": 0,
      "outputs": []
    },
    {
      "cell_type": "code",
      "metadata": {
        "id": "WzvNTql7G4zA",
        "colab_type": "code",
        "colab": {}
      },
      "source": [
        "# Move in reverse direction\n",
        "import turtle as tt\n",
        "a1 = tt.Turtle()\n",
        "a1.backward(100)\n",
        "tt.done()\n"
      ],
      "execution_count": 0,
      "outputs": []
    },
    {
      "cell_type": "code",
      "metadata": {
        "id": "99FKw653G8rf",
        "colab_type": "code",
        "colab": {}
      },
      "source": [
        "# Draw Square\n",
        "import turtle as tt\n",
        "a1 = tt.Turtle()\n",
        "for x in range(4) :\n",
        "  a1.forward(100)\n",
        "  a1.right(90)\n",
        "tt.done()\n"
      ],
      "execution_count": 0,
      "outputs": []
    },
    {
      "cell_type": "code",
      "metadata": {
        "id": "6ZyWAAjKHG97",
        "colab_type": "code",
        "colab": {}
      },
      "source": [
        "# Draw Star\n",
        "import turtle as tt\n",
        "a1 = tt.Turtle()\n",
        "for x in range(40) :\n",
        "  a1.forward(200)\n",
        "  a1.right(144)\n",
        "tt.done()"
      ],
      "execution_count": 0,
      "outputs": []
    },
    {
      "cell_type": "code",
      "metadata": {
        "id": "uF2GiuTUHNbR",
        "colab_type": "code",
        "colab": {}
      },
      "source": [
        "# Square in motion\n",
        "import turtle as tt\n",
        "a1 = tt.Turtle()\n",
        "for i in range(7):\n",
        "    for x in range(4) :\n",
        "        a1.forward(100)\n",
        "        a1.left(90)\n",
        "    a1.left(15)\n",
        "tt.done()"
      ],
      "execution_count": 0,
      "outputs": []
    },
    {
      "cell_type": "code",
      "metadata": {
        "id": "tUV4kg5hiSws",
        "colab_type": "code",
        "colab": {}
      },
      "source": [
        "# Formation of a spiral with a square\n",
        "import turtle as tt\n",
        "a1 = tt.Turtle()\n",
        "a1.pencolor('blue') \n",
        "for i in range(250):\n",
        "        a1.forward(i)\n",
        "        a1.left(91)\n",
        "tt.done()"
      ],
      "execution_count": 0,
      "outputs": []
    },
    {
      "cell_type": "code",
      "metadata": {
        "id": "LW-idg8ZiVfr",
        "colab_type": "code",
        "colab": {}
      },
      "source": [
        "# Formation of a spiral with a Hexagon\n",
        "from turtle import *\n",
        "color = ['blue','green','yellow','orange','purple','red']\n",
        "for x in range(360):\n",
        "    pencolor(color[x%6])\n",
        "    width(x/100 + 1)\n",
        "    forward(x)\n",
        "    left(59)"
      ],
      "execution_count": 0,
      "outputs": []
    },
    {
      "cell_type": "code",
      "metadata": {
        "id": "UV9NXARIiYS0",
        "colab_type": "code",
        "colab": {}
      },
      "source": [
        "# goto function\n",
        "\n",
        "from turtle import *\n",
        "goto(50,50)\n",
        "goto(-50,50)\n",
        "goto(100,-50)\n",
        "goto(-50,-50)\n"
      ],
      "execution_count": 0,
      "outputs": []
    },
    {
      "cell_type": "code",
      "metadata": {
        "id": "dCdOK2EsibCb",
        "colab_type": "code",
        "colab": {}
      },
      "source": [
        "# setheading(heading)\n",
        "# will change the current direction to the heading angle\n",
        "\n",
        "from turtle import * \n",
        "color = ['blue', 'red', 'green', 'orange', 'yellow']\n",
        "for angle in range(0,360,15) :\n",
        "  setheading(angle)\n",
        "  forward(100)\n",
        "  write(str(angle)+ 'o')\n",
        "  backward(100)"
      ],
      "execution_count": 0,
      "outputs": []
    },
    {
      "cell_type": "code",
      "metadata": {
        "id": "alAcT1Q7ielq",
        "colab_type": "code",
        "colab": {}
      },
      "source": [
        "# undo() function will undo the last turtle action  \n",
        "from turtle import *\n",
        "pencolor('blue')\n",
        "for i in range(20) :\n",
        "    forward(10)\n",
        "    left(90)\n",
        "    forward(10)\n",
        "    left(90)\n",
        "    forward(10)\n",
        "    right(90)\n",
        "    forward(10)\n",
        "    right(90)\n",
        "pencolor('red')\n",
        "for i in range(90) :\n",
        "    undo()"
      ],
      "execution_count": 0,
      "outputs": []
    },
    {
      "cell_type": "code",
      "metadata": {
        "id": "8-G2cuXpihl8",
        "colab_type": "code",
        "colab": {}
      },
      "source": [
        "# M\n",
        "from turtle import *\n",
        "pensize(50)\n",
        "pencolor('blue')\n",
        "forward(250)\n",
        "pencolor(0,1,0,0)\n",
        "forward(250)\n",
        "pensize(10)\n",
        "goto(-400,50)\n",
        "\n",
        "\n",
        "for red in range(4) :\n",
        "    for green in range(4) :\n",
        "        for blue in range(4) :\n",
        "            pencolor(red/4.0,green/4.0,blue/4.0)\n",
        "            forward(10)"
      ],
      "execution_count": 0,
      "outputs": []
    },
    {
      "cell_type": "code",
      "metadata": {
        "id": "5yUEczryila3",
        "colab_type": "code",
        "colab": {}
      },
      "source": [
        "# Generate a rectangle\n",
        "# Generate a circle\n",
        "# Fill the colors into rectangle and circle\n",
        "# fillcolor('color')\n",
        "# Generate some stars\n",
        "# stamp()"
      ],
      "execution_count": 0,
      "outputs": []
    },
    {
      "cell_type": "code",
      "metadata": {
        "id": "Qo59fa21j5WS",
        "colab_type": "code",
        "colab": {}
      },
      "source": [
        "def reverseofTuple() :\n",
        "  return tup[::-1] for tup in 1stoftuple\n",
        "1stOftuple((1,2),(3,4,5),(6,7,8,9))\n",
        "print(reverseofTuple(1stOftuple))"
      ],
      "execution_count": 0,
      "outputs": []
    },
    {
      "cell_type": "code",
      "metadata": {
        "id": "FxvQp8FZ6hQp",
        "colab_type": "code",
        "colab": {}
      },
      "source": [
        "# Generate the symbols\n",
        "from turtle import * \n",
        "colors = ('red', 'orange', 'yellow', 'seagreen4', 'orchid4', 'royalblue')\n",
        "reset()\n",
        "up()\n",
        "goto(-320,-195)\n",
        "width(90)\n",
        "for pcolor in colors :\n",
        "  color(pcolor)\n",
        "  down()\n",
        "  forward(750)\n",
        "  up()\n",
        "  backward(750)\n",
        "  left(90)\n",
        "  forward(100)\n",
        "  right(90)\n",
        "width(20)\n",
        "color('white')\n",
        "goto(0,-170)\n",
        "down()\n",
        "\n",
        "circle(170)\n",
        "left(90)\n",
        "forward(340)\n",
        "up()\n",
        "left(180)\n",
        "forward(170)\n",
        "up()\n",
        "backward(170)\n",
        "left(90)\n",
        "down()\n",
        "forward(170)\n",
        "up()\n",
        "goto(0,300)"
      ],
      "execution_count": 0,
      "outputs": []
    },
    {
      "cell_type": "code",
      "metadata": {
        "id": "UqpsA7YK-06i",
        "colab_type": "code",
        "colab": {}
      },
      "source": [
        "# Fiiling colour in symbol\n",
        "from turtle import * \n",
        "fillcolor('purple')\n",
        "pencolor('black')\n",
        "forward(100)\n",
        "\n",
        "begin_fill()\n",
        "forward(250)\n",
        "left(90)\n",
        "forward(250)\n",
        "left(90)\n",
        "forward(250)\n",
        "left(90)\n",
        "forward(250)\n",
        "left(90)\n",
        "end_fill()\n",
        "\n",
        "fillcolor('orange')\n",
        "begin_fill()\n",
        "circle(170)\n",
        "left(90)\n",
        "forward(340)\n",
        "up()\n",
        "left(180)\n",
        "forward(170)\n",
        "up()\n",
        "backward(170)\n",
        "left(90)\n",
        "down()\n",
        "forward(170)\n",
        "up()\n",
        "goto(0,300)\n",
        "end_fill()\n"
      ],
      "execution_count": 0,
      "outputs": []
    }
  ]
}