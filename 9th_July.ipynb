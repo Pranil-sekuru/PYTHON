{
  "nbformat": 4,
  "nbformat_minor": 0,
  "metadata": {
    "colab": {
      "name": "9th July.ipynb",
      "version": "0.3.2",
      "provenance": [],
      "collapsed_sections": [],
      "include_colab_link": true
    },
    "kernelspec": {
      "name": "python3",
      "display_name": "Python 3"
    }
  },
  "cells": [
    {
      "cell_type": "markdown",
      "metadata": {
        "id": "view-in-github",
        "colab_type": "text"
      },
      "source": [
        "<a href=\"https://colab.research.google.com/github/Pranil-sekuru/PYTHON/blob/master/9th_July.ipynb\" target=\"_parent\"><img src=\"https://colab.research.google.com/assets/colab-badge.svg\" alt=\"Open In Colab\"/></a>"
      ]
    },
    {
      "cell_type": "markdown",
      "metadata": {
        "id": "ztrNsrGf2tAt",
        "colab_type": "text"
      },
      "source": [
        "#Data structures\n",
        " \n",
        "- Lists\n",
        "- Tuples\n",
        "- Dictionaries\n",
        "- Basic program sets on data structures\n",
        "- Advaced problem sets\n",
        "- contact application (dictionary object)\n",
        "\n",
        "##Data structures\n",
        "\n",
        "- To store , search and sort the data"
      ]
    },
    {
      "cell_type": "code",
      "metadata": {
        "id": "7FGr5cH24ROK",
        "colab_type": "code",
        "colab": {
          "base_uri": "https://localhost:8080/",
          "height": 102
        },
        "outputId": "66ac09bc-3eac-477b-d0b6-4307dc667553"
      },
      "source": [
        "list = [1,2,3,4]\n",
        "print(list)\n",
        "print(list[0])\n",
        "print(list[-1])\n",
        "print(list[1:])\n",
        "print(list[1:4])"
      ],
      "execution_count": 3,
      "outputs": [
        {
          "output_type": "stream",
          "text": [
            "[1, 2, 3, 4]\n",
            "1\n",
            "4\n",
            "[2, 3, 4]\n",
            "[2, 3, 4]\n"
          ],
          "name": "stdout"
        }
      ]
    },
    {
      "cell_type": "code",
      "metadata": {
        "id": "gX_eqkzf6eet",
        "colab_type": "code",
        "colab": {
          "base_uri": "https://localhost:8080/",
          "height": 51
        },
        "outputId": "907c53b1-3e78-4f17-91e7-a951b0ac2aa9"
      },
      "source": [
        "#Update list item using index (Direct Refrencing)\n",
        "li = [\"Gitam\",\"Python\",1989,2002]\n",
        "print(li)\n",
        "li[2] = 2019\n",
        "print(li)\n"
      ],
      "execution_count": 5,
      "outputs": [
        {
          "output_type": "stream",
          "text": [
            "['Gitam', 'Python', 1989, 2002]\n",
            "['Gitam', 'Python', 2019, 2002]\n"
          ],
          "name": "stdout"
        }
      ]
    },
    {
      "cell_type": "code",
      "metadata": {
        "id": "X5Q0SlG664JC",
        "colab_type": "code",
        "colab": {
          "base_uri": "https://localhost:8080/",
          "height": 51
        },
        "outputId": "5221c59f-8246-46a7-e283-9f5ea7247a45"
      },
      "source": [
        "#Delete specific item in the list\n",
        "print(li)\n",
        "del(li[2])\n",
        "print(li)"
      ],
      "execution_count": 7,
      "outputs": [
        {
          "output_type": "stream",
          "text": [
            "['Gitam', 'Python', 2002]\n",
            "['Gitam', 'Python']\n"
          ],
          "name": "stdout"
        }
      ]
    },
    {
      "cell_type": "code",
      "metadata": {
        "id": "fq2WC8jA8M4Y",
        "colab_type": "code",
        "colab": {
          "base_uri": "https://localhost:8080/",
          "height": 102
        },
        "outputId": "983f6f4f-52c0-4bf2-d3ed-d0be131d922a"
      },
      "source": [
        "#Basic list operations\n",
        "lt = [1,9,6,8,7]\n",
        "print(len(lt))\n",
        "print(lt * 2)\n",
        "print(9 in lt)\n",
        "print(15 in lt)\n",
        "\n",
        "for x in range(len(lt)):\n",
        "  print(lt[x] , end = \" \")"
      ],
      "execution_count": 11,
      "outputs": [
        {
          "output_type": "stream",
          "text": [
            "5\n",
            "[1, 9, 6, 8, 7, 1, 9, 6, 8, 7]\n",
            "True\n",
            "False\n",
            "1 9 6 8 7 "
          ],
          "name": "stdout"
        }
      ]
    },
    {
      "cell_type": "code",
      "metadata": {
        "id": "f7_9IZV386xP",
        "colab_type": "code",
        "colab": {
          "base_uri": "https://localhost:8080/",
          "height": 119
        },
        "outputId": "ee3c3cc7-caa8-43d2-b401-d304798ff440"
      },
      "source": [
        "#Functions of list\n",
        "lt\n",
        "print(lt)\n",
        "print(min(lt))\n",
        "print(max(lt))\n",
        "print(sum(lt)) # Sum of all elements in the list\n",
        "print(sum(lt)//len(lt)) # Average of  elements \n",
        "print(sum(lt[1::2])/len(lt[1::2]))\n",
        "        "
      ],
      "execution_count": 15,
      "outputs": [
        {
          "output_type": "stream",
          "text": [
            "[1, 9, 6, 8, 7]\n",
            "1\n",
            "9\n",
            "31\n",
            "6\n",
            "8.5\n"
          ],
          "name": "stdout"
        }
      ]
    },
    {
      "cell_type": "code",
      "metadata": {
        "id": "s8osWBSg_47G",
        "colab_type": "code",
        "colab": {
          "base_uri": "https://localhost:8080/",
          "height": 34
        },
        "outputId": "be8ab186-b98c-410c-f88e-d15273099a5a"
      },
      "source": [
        "#Methods of List objects \n",
        "lt\n",
        "lt.append(24)# adds element to the end of the list\n",
        "lt\n",
        "lt.insert(2,50) # Adds elemnet to a particular position in the list\n",
        "lt\n",
        "lt.count(10) # Checks how many times it repeated\n",
        "lt.index(50)# Shows the position of specified element\n",
        "lt\n",
        "lt.sort()\n",
        "lt\n",
        "lt.pop() # Removes last element of the list\n",
        "lt.pop() \n",
        "\n",
        "lt2 = [123,23,45]\n",
        "lt2\n",
        "lt.extend(lt2) # Merge the list 2 with list \n",
        "lt\n",
        "lt.reverse()\n",
        "lt"
      ],
      "execution_count": 27,
      "outputs": [
        {
          "output_type": "execute_result",
          "data": {
            "text/plain": [
              "[1, 6, 7, 8, 9, 24, 24, 24, 24, 24, 24, 24, 24, 50, 50, 50, 123, 23, 45]"
            ]
          },
          "metadata": {
            "tags": []
          },
          "execution_count": 27
        }
      ]
    },
    {
      "cell_type": "code",
      "metadata": {
        "id": "lDqcPvcGCFF1",
        "colab_type": "code",
        "colab": {
          "base_uri": "https://localhost:8080/",
          "height": 85
        },
        "outputId": "d42ab51c-bf87-4da8-dd7a-0c7401ec486f"
      },
      "source": [
        "lt = [1,9,8,2,6,3]\n",
        "print(lt[-1::])\n",
        "print(lt[::-2])\n",
        "print(lt[2::-2])  # Reverse alteranting \n",
        "print(lt[-1:2:-2]) # -1 - last index , -2 - last , 2 - stop till index number "
      ],
      "execution_count": 32,
      "outputs": [
        {
          "output_type": "stream",
          "text": [
            "[3]\n",
            "[3, 2, 9]\n",
            "[8, 1]\n",
            "[3, 2]\n"
          ],
          "name": "stdout"
        }
      ]
    },
    {
      "cell_type": "code",
      "metadata": {
        "id": "oO9ypFhdJT4N",
        "colab_type": "code",
        "colab": {
          "base_uri": "https://localhost:8080/",
          "height": 34
        },
        "outputId": "fa7193fc-d2d6-46e0-b5aa-04f78ab2c49b"
      },
      "source": [
        "def secondLarge(li) :\n",
        "  li.sort()\n",
        "  return li[-2]\n",
        "li = [1,19,6,2,8,10,3]\n",
        "secondLarge(li)\n",
        "\n",
        "  \n"
      ],
      "execution_count": 37,
      "outputs": [
        {
          "output_type": "execute_result",
          "data": {
            "text/plain": [
              "10"
            ]
          },
          "metadata": {
            "tags": []
          },
          "execution_count": 37
        }
      ]
    },
    {
      "cell_type": "code",
      "metadata": {
        "id": "0hSOASlwLm3D",
        "colab_type": "code",
        "colab": {
          "base_uri": "https://localhost:8080/",
          "height": 34
        },
        "outputId": "352ecd86-0288-40e9-97e5-5b80ee9b8924"
      },
      "source": [
        "def genericLarge(li,n) :\n",
        "  li.sort()\n",
        "  return li[-n]\n",
        "li = [1,19,6,2,8,10,3]\n",
        "genericLarge(li,5)\n"
      ],
      "execution_count": 38,
      "outputs": [
        {
          "output_type": "execute_result",
          "data": {
            "text/plain": [
              "3"
            ]
          },
          "metadata": {
            "tags": []
          },
          "execution_count": 38
        }
      ]
    },
    {
      "cell_type": "code",
      "metadata": {
        "id": "VIwbaOsOLoH_",
        "colab_type": "code",
        "colab": {
          "base_uri": "https://localhost:8080/",
          "height": 34
        },
        "outputId": "9fe40bc6-81aa-468f-c1d9-efbb758b416e"
      },
      "source": [
        "def secondLeast(li) :\n",
        "  li.sort()\n",
        "  return li[1]\n",
        "li = [1,19,6,2,8,10,3]\n",
        "secondLeast(li)\n"
      ],
      "execution_count": 39,
      "outputs": [
        {
          "output_type": "execute_result",
          "data": {
            "text/plain": [
              "2"
            ]
          },
          "metadata": {
            "tags": []
          },
          "execution_count": 39
        }
      ]
    },
    {
      "cell_type": "code",
      "metadata": {
        "id": "QjViNSGQMMfo",
        "colab_type": "code",
        "colab": {
          "base_uri": "https://localhost:8080/",
          "height": 34
        },
        "outputId": "14d3c112-7760-49f2-a091-c5d869c3717f"
      },
      "source": [
        "def genericLeast(li,n) :\n",
        "  li.sort()\n",
        "  return li[n-1]\n",
        "li = [1,19,6,2,8,10,3]\n",
        "genericLeast(li,4)"
      ],
      "execution_count": 41,
      "outputs": [
        {
          "output_type": "execute_result",
          "data": {
            "text/plain": [
              "6"
            ]
          },
          "metadata": {
            "tags": []
          },
          "execution_count": 41
        }
      ]
    },
    {
      "cell_type": "markdown",
      "metadata": {
        "id": "zV9KLeawVdMG",
        "colab_type": "text"
      },
      "source": [
        "##Searching algorithms\n",
        "\n",
        "- Linear search :- Can be applied on duplicate and unique list\n",
        "      - Unique lists :- elements in the list only appear once\n",
        "         linear search algorithm can be applied to sorted or unsorted lists\n",
        "- Binary search"
      ]
    },
    {
      "cell_type": "code",
      "metadata": {
        "id": "vQVusOxhXcO5",
        "colab_type": "code",
        "colab": {
          "base_uri": "https://localhost:8080/",
          "height": 34
        },
        "outputId": "af65f99e-df49-48d5-faa0-c62635179bcb"
      },
      "source": [
        "#Function to search the data in a list\n",
        "\n",
        "def linearSearch(li,item) :\n",
        "  for x in range(len(li)) :\n",
        "    if li[x] == item :\n",
        "      return x\n",
        "  return -1\n",
        "li = [1,19,6,2,8,18,3]\n",
        "linearSearch(li,225)"
      ],
      "execution_count": 43,
      "outputs": [
        {
          "output_type": "execute_result",
          "data": {
            "text/plain": [
              "-1"
            ]
          },
          "metadata": {
            "tags": []
          },
          "execution_count": 43
        }
      ]
    },
    {
      "cell_type": "code",
      "metadata": {
        "id": "ECJNm4n8avYG",
        "colab_type": "code",
        "colab": {
          "base_uri": "https://localhost:8080/",
          "height": 34
        },
        "outputId": "d82f5222-c244-453e-855b-151d160cf522"
      },
      "source": [
        "def lsearch(li,item) :\n",
        "  for x in range(len(li)) :\n",
        "    if li[x] == item :\n",
        "      print(x,end = \" \")\n",
        "  return \n",
        "  \n",
        "li = [1,5,9,6,5,15,1,2,5]\n",
        "lsearch(li,5)\n",
        "    \n",
        "    \n",
        "    "
      ],
      "execution_count": 47,
      "outputs": [
        {
          "output_type": "stream",
          "text": [
            "1 4 8 "
          ],
          "name": "stdout"
        }
      ]
    },
    {
      "cell_type": "code",
      "metadata": {
        "id": "sSwMjqN1cmyg",
        "colab_type": "code",
        "colab": {
          "base_uri": "https://localhost:8080/",
          "height": 34
        },
        "outputId": "c7549375-82df-4b53-ec89-0ff636a2d4d3"
      },
      "source": [
        "def lsearch(li,item) :\n",
        "  for x in range(len(li)) :\n",
        "    if li[x] == item :\n",
        "      for i in range(0,x+1) :\n",
        "        print(\"!\", end = \"\")\n",
        "      print(end = \" \")\n",
        "  return\n",
        "\n",
        "li = [1,5,9,6,5,15,1,2,5]\n",
        "lsearch(li,5)"
      ],
      "execution_count": 52,
      "outputs": [
        {
          "output_type": "stream",
          "text": [
            "!! !!!!! !!!!!!!!! "
          ],
          "name": "stdout"
        }
      ]
    },
    {
      "cell_type": "code",
      "metadata": {
        "id": "v9ABkefJhOT4",
        "colab_type": "code",
        "colab": {
          "base_uri": "https://localhost:8080/",
          "height": 34
        },
        "outputId": "e1adbfe8-fdbc-4381-efd1-aba4ba7f96b0"
      },
      "source": [
        "def Formatted(li) :\n",
        "  sum = 0\n",
        "  for x in range(len(li)) :\n",
        "      if li[x] % 3 == 0 and li[x] % 5 == 0 :\n",
        "        sum = sum + li[x]\n",
        "  return sum\n",
        "\n",
        "li = [12,2,45,9,18,15,36]\n",
        "print(\"Sum = \",Formatted(li))\n",
        "      "
      ],
      "execution_count": 55,
      "outputs": [
        {
          "output_type": "stream",
          "text": [
            "Sum =  60\n"
          ],
          "name": "stdout"
        }
      ]
    },
    {
      "cell_type": "code",
      "metadata": {
        "id": "xsepJbBOkVKg",
        "colab_type": "code",
        "colab": {
          "base_uri": "https://localhost:8080/",
          "height": 34
        },
        "outputId": "b38cdfff-a18d-45cd-acbc-005d321a308a"
      },
      "source": [
        "def con(li) :\n",
        "  for x in range(len(li)) :\n",
        "    if x == 0 or x == len(li)-1 :\n",
        "      print(li[x],end = \" \")\n",
        "    else :\n",
        "      print(li[x-1]*li[x+1], end = \" \")\n",
        "  return\n",
        "li = [1,2,3,4,5]\n",
        "con(li)"
      ],
      "execution_count": 78,
      "outputs": [
        {
          "output_type": "stream",
          "text": [
            "1 3 8 15 5 "
          ],
          "name": "stdout"
        }
      ]
    },
    {
      "cell_type": "code",
      "metadata": {
        "id": "DI5Trx0l4hh9",
        "colab_type": "code",
        "colab": {
          "base_uri": "https://localhost:8080/",
          "height": 34
        },
        "outputId": "35517971-fd67-4a3f-c3b6-eae450d8ff4e"
      },
      "source": [
        "def con(li) :\n",
        "  for x in range(len(li)) :\n",
        "    if x == 0 or x == len(li)-1 :\n",
        "      print(li[x],end = \" \")\n",
        "    elif (li[x-1]%2==0 and li[x+1]%2==0) :\n",
        "      print(li[x], end = \" \")\n",
        "  return\n",
        "li = [1,6,9,4,16,19,22]\n",
        "con(li)"
      ],
      "execution_count": 84,
      "outputs": [
        {
          "output_type": "stream",
          "text": [
            "1 9 19 22 "
          ],
          "name": "stdout"
        }
      ]
    },
    {
      "cell_type": "code",
      "metadata": {
        "id": "z4Yg3laQ_lYY",
        "colab_type": "code",
        "colab": {
          "base_uri": "https://localhost:8080/",
          "height": 34
        },
        "outputId": "927b9ae1-cd9d-43b1-a44d-56cb560d350c"
      },
      "source": [
        "def numberListconversion(n) :\n",
        "  li = []\n",
        "  while n!= 0 :\n",
        "    r = n % 10\n",
        "    li.append(r)\n",
        "    n= n // 10\n",
        "  li.reverse()\n",
        "  return li\n",
        "      \n",
        "numberListconversion(14569)"
      ],
      "execution_count": 89,
      "outputs": [
        {
          "output_type": "execute_result",
          "data": {
            "text/plain": [
              "[1, 4, 5, 6, 9]"
            ]
          },
          "metadata": {
            "tags": []
          },
          "execution_count": 89
        }
      ]
    },
    {
      "cell_type": "code",
      "metadata": {
        "id": "4aku4B14DfH9",
        "colab_type": "code",
        "colab": {
          "base_uri": "https://localhost:8080/",
          "height": 34
        },
        "outputId": "d82f702c-0c2e-4b72-9fc1-6e80b8e21dd4"
      },
      "source": [
        "def countCharOccurances(s,c) :\n",
        "  count = 0  \n",
        "  for ch in s :\n",
        "    if ch == c :\n",
        "      count = count + 1\n",
        "  return count\n",
        "\n",
        "def countCharOccurances1(s,c) :\n",
        "  return s.count(c)\n",
        "countCharOccurances1(\"Python Programming\",'P')\n"
      ],
      "execution_count": 96,
      "outputs": [
        {
          "output_type": "execute_result",
          "data": {
            "text/plain": [
              "2"
            ]
          },
          "metadata": {
            "tags": []
          },
          "execution_count": 96
        }
      ]
    },
    {
      "cell_type": "markdown",
      "metadata": {
        "id": "wCebGJ5MF6J_",
        "colab_type": "text"
      },
      "source": [
        "##String to list conversion \n",
        " \n",
        " - input will be a string\n",
        " - expected output will be a string "
      ]
    },
    {
      "cell_type": "code",
      "metadata": {
        "id": "VUwD2nC_DnjU",
        "colab_type": "code",
        "colab": {
          "base_uri": "https://localhost:8080/",
          "height": 34
        },
        "outputId": "a9f575f6-3576-4817-ac14-2643186ae204"
      },
      "source": [
        "def stringTolist(s) :\n",
        "  li = s.split()\n",
        "  numberslist = []\n",
        "  for i in li :\n",
        "    numberslist.append(int(i))\n",
        "  return numberslist\n",
        "\n",
        "s = \"1 2 3 4 5 6 \"\n",
        "stringTolist(s)"
      ],
      "execution_count": 99,
      "outputs": [
        {
          "output_type": "execute_result",
          "data": {
            "text/plain": [
              "[1, 2, 3, 4, 5, 6]"
            ]
          },
          "metadata": {
            "tags": []
          },
          "execution_count": 99
        }
      ]
    },
    {
      "cell_type": "markdown",
      "metadata": {
        "id": "KHpkC6KKI92f",
        "colab_type": "text"
      },
      "source": [
        "##Sorting Algorithms \n",
        "\n",
        "- Bubble sort\n",
        "- Selection sort\n",
        "- Insertion sort \n"
      ]
    },
    {
      "cell_type": "markdown",
      "metadata": {
        "id": "2I14NI0tJ8Cn",
        "colab_type": "text"
      },
      "source": [
        "###Bubble sort \n",
        "\n",
        "- This algorithm compares the adj elements and then swaps the one greater"
      ]
    },
    {
      "cell_type": "code",
      "metadata": {
        "id": "bdsRH050I6BH",
        "colab_type": "code",
        "colab": {
          "base_uri": "https://localhost:8080/",
          "height": 34
        },
        "outputId": "77b3198a-fa05-4203-f7c0-0e46bfe8e25c"
      },
      "source": [
        "def Bubblesort(li) :\n",
        "  for i in range(len(li)-1) :\n",
        "    for j in range(len(li)-1) :\n",
        "      if li[j] > li[j+1] :\n",
        "        li[j],li[j+1] = li[j+1], li[j]\n",
        "  return li\n",
        "\n",
        "li = [19,1,25,6,18,3]\n",
        "Bubblesort(li)"
      ],
      "execution_count": 101,
      "outputs": [
        {
          "output_type": "execute_result",
          "data": {
            "text/plain": [
              "[1, 3, 6, 18, 19, 25]"
            ]
          },
          "metadata": {
            "tags": []
          },
          "execution_count": 101
        }
      ]
    },
    {
      "cell_type": "code",
      "metadata": {
        "id": "xWWQMDrAbzs_",
        "colab_type": "code",
        "colab": {
          "base_uri": "https://localhost:8080/",
          "height": 34
        },
        "outputId": "3d6886b6-a465-4c27-c225-ae08ebb6d913"
      },
      "source": [
        "li = [1,4,5,6,9]\n",
        "for i in li :\n",
        "  print(i, end = \"\")\n",
        "  "
      ],
      "execution_count": 105,
      "outputs": [
        {
          "output_type": "stream",
          "text": [
            "14569"
          ],
          "name": "stdout"
        }
      ]
    },
    {
      "cell_type": "code",
      "metadata": {
        "id": "zmOBRMmadLqD",
        "colab_type": "code",
        "colab": {
          "base_uri": "https://localhost:8080/",
          "height": 34
        },
        "outputId": "6b074902-5362-444f-8b18-54f7a14a79a8"
      },
      "source": [
        "li = [1,4,5,6,9]\n",
        "for x in range(len(li)) :\n",
        "  if li[x]%2 == 0 :\n",
        "    print(li[x], end = \"\")"
      ],
      "execution_count": 115,
      "outputs": [
        {
          "output_type": "stream",
          "text": [
            "46"
          ],
          "name": "stdout"
        }
      ]
    },
    {
      "cell_type": "code",
      "metadata": {
        "id": "hClx-Z0feZdd",
        "colab_type": "code",
        "colab": {
          "base_uri": "https://localhost:8080/",
          "height": 34
        },
        "outputId": "711765cd-6966-4780-b88d-bd10a831708b"
      },
      "source": [
        "li = [1,2,3,4,5]\n",
        "for x in range(len(li)) :\n",
        "  if li[x]%2 == 0 :\n",
        "    li[x] = li[x]*li[x]\n",
        "print(li)\n"
      ],
      "execution_count": 120,
      "outputs": [
        {
          "output_type": "stream",
          "text": [
            "[1, 4, 3, 16, 5]\n"
          ],
          "name": "stdout"
        }
      ]
    }
  ]
}