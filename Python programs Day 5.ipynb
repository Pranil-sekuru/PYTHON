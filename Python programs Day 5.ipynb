{
  "nbformat": 4,
  "nbformat_minor": 0,
  "metadata": {
    "colab": {
      "name": "Untitled0.ipynb",
      "version": "0.3.2",
      "provenance": [],
      "include_colab_link": true
    },
    "kernelspec": {
      "name": "python3",
      "display_name": "Python 3"
    }
  },
  "cells": [
    {
      "cell_type": "markdown",
      "metadata": {
        "id": "view-in-github",
        "colab_type": "text"
      },
      "source": [
        "<a href=\"https://colab.research.google.com/github/Pranil-sekuru/PYTHON/blob/master/Python%20programs%20Day%205.ipynb\" target=\"_parent\"><img src=\"https://colab.research.google.com/assets/colab-badge.svg\" alt=\"Open In Colab\"/></a>"
      ]
    },
    {
      "cell_type": "code",
      "metadata": {
        "id": "LgIMZwfdzpAb",
        "colab_type": "code",
        "colab": {
          "base_uri": "https://localhost:8080/",
          "height": 51
        },
        "outputId": "fce8ed64-9b8e-49bd-9180-7cd95dafe463"
      },
      "source": [
        "#Program to find if the year is a leap year or not\n",
        "n= int(input(\"Enter the year\"))\n",
        "if n%4==0 :\n",
        "  print(\"Given year is a leap year\")\n",
        "else :\n",
        "  print(\"Not a leap year\")"
      ],
      "execution_count": 2,
      "outputs": [
        {
          "output_type": "stream",
          "text": [
            "Enter the year2000\n",
            "Given year is a leap year\n"
          ],
          "name": "stdout"
        }
      ]
    },
    {
      "cell_type": "code",
      "metadata": {
        "id": "axRM31Jf0Tg-",
        "colab_type": "code",
        "colab": {
          "base_uri": "https://localhost:8080/",
          "height": 51
        },
        "outputId": "f5b57133-4524-4cc7-d920-65038243b96b"
      },
      "source": [
        "n = int(input(\"Enter the Day number -\"))\n",
        "if n==0 :\n",
        "  print(\"sunday\")\n",
        "if n==1 :\n",
        "  print(\"Monday\")\n",
        "if n==2 :\n",
        "  print(\"Tuesday\")\n",
        "if n==3 :\n",
        "  print(\"Wednesday\")\n",
        "if n==4 :\n",
        "  print(\"Thursday\")\n",
        "if n==5 :\n",
        "  print(\"Friday\")\n",
        "if n==6 :\n",
        "  print(\"Saturday\")"
      ],
      "execution_count": 3,
      "outputs": [
        {
          "output_type": "stream",
          "text": [
            "Enter the Day number -3\n",
            "Wednesday\n"
          ],
          "name": "stdout"
        }
      ]
    },
    {
      "cell_type": "code",
      "metadata": {
        "id": "nQa7uIWG0-Dy",
        "colab_type": "code",
        "colab": {
          "base_uri": "https://localhost:8080/",
          "height": 85
        },
        "outputId": "b0ee31b3-62be-4353-f68d-b7254543e91a"
      },
      "source": [
        "  \n",
        "  a= int(input(\"Enter number \"))\n",
        "  b= int(input(\"Enter number \"))\n",
        "  c = int(input(\"Enter number \"))\n",
        "  if a>b and a>c :  \n",
        "     print (\"A is bigger\")\n",
        "  elif b>a and b>c:\n",
        "         print( \"B is greater\" )\n",
        "  elif c>a and c>b :\n",
        "         print (\"C is greater\")\n",
        "       "
      ],
      "execution_count": 5,
      "outputs": [
        {
          "output_type": "stream",
          "text": [
            "Enter number 2\n",
            "Enter number 3\n",
            "Enter number 4\n",
            "C is greater\n"
          ],
          "name": "stdout"
        }
      ]
    },
    {
      "cell_type": "code",
      "metadata": {
        "id": "E24FDfNv3jUX",
        "colab_type": "code",
        "colab": {
          "base_uri": "https://localhost:8080/",
          "height": 51
        },
        "outputId": "167f3b25-fbfc-4453-def0-c118cfa1cd8e"
      },
      "source": [
        "n = int(input(\"Enter number of terms \"))\n",
        "a = (n*(n+1))/2\n",
        "print(a)"
      ],
      "execution_count": 7,
      "outputs": [
        {
          "output_type": "stream",
          "text": [
            "Enter number of terms5\n",
            "15.0\n"
          ],
          "name": "stdout"
        }
      ]
    },
    {
      "cell_type": "code",
      "metadata": {
        "id": "N0sMXT-34Hy5",
        "colab_type": "code",
        "colab": {
          "base_uri": "https://localhost:8080/",
          "height": 51
        },
        "outputId": "8525ba50-cf1b-48d9-b759-70fd49713d4d"
      },
      "source": [
        "n = int(input(\"Enter number of terms \"))\n",
        "a = n*n\n",
        "print(a)"
      ],
      "execution_count": 9,
      "outputs": [
        {
          "output_type": "stream",
          "text": [
            "Enter number of terms 9\n",
            "81\n"
          ],
          "name": "stdout"
        }
      ]
    },
    {
      "cell_type": "code",
      "metadata": {
        "id": "NxJfqZIj48M9",
        "colab_type": "code",
        "colab": {
          "base_uri": "https://localhost:8080/",
          "height": 51
        },
        "outputId": "e371b74c-c20f-4ecd-fdbe-2c1c3add482d"
      },
      "source": [
        "n = int(input(\"Enter number of terms \"))\n",
        "a = (n*(n+1))/2\n",
        "b = a/n\n",
        "print(b)"
      ],
      "execution_count": 12,
      "outputs": [
        {
          "output_type": "stream",
          "text": [
            "Enter number of terms 12\n",
            "6.5\n"
          ],
          "name": "stdout"
        }
      ]
    },
    {
      "cell_type": "code",
      "metadata": {
        "id": "lqjGv5gk5VxV",
        "colab_type": "code",
        "colab": {
          "base_uri": "https://localhost:8080/",
          "height": 102
        },
        "outputId": "ebdaa402-af31-4708-f044-7555c255f9be"
      },
      "source": [
        "a = int(input(\"Enter coeff of x2 \"))\n",
        "b = int(input(\"Enter coeff of x \"))\n",
        "c = int(input(\"Enter constant \"))\n",
        "if (b*b)-(4*a*c) >= 0 :\n",
        "  first = (-b+(b**2-4*a*c)**1/2)/2*a\n",
        "  second = (-b-(b**2-4*a*c)**1/2)/2*a\n",
        "  print(first)\n",
        "  print(second)\n",
        "else :\n",
        "  print(\"Roots are imaginary\")"
      ],
      "execution_count": 22,
      "outputs": [
        {
          "output_type": "stream",
          "text": [
            "Enter coeff of x2 1\n",
            "Enter coeff of x 4\n",
            "Enter constant 4\n",
            "-2.0\n",
            "-2.0\n"
          ],
          "name": "stdout"
        }
      ]
    },
    {
      "cell_type": "code",
      "metadata": {
        "id": "AEwDz3U_71BI",
        "colab_type": "code",
        "colab": {
          "base_uri": "https://localhost:8080/",
          "height": 85
        },
        "outputId": "bbc3010c-faa5-4ea8-e0db-c15cdcfd62a8"
      },
      "source": [
        "n = int(input(\"Enter number \"))\n",
        "i = 1\n",
        "while (i<=n) :\n",
        "  if (n%i==0) :\n",
        "    print(i)\n",
        "    i=i+1\n",
        "  else :\n",
        "    i=i+1"
      ],
      "execution_count": 28,
      "outputs": [
        {
          "output_type": "stream",
          "text": [
            "Enter number 4\n",
            "1\n",
            "2\n",
            "4\n"
          ],
          "name": "stdout"
        }
      ]
    },
    {
      "cell_type": "code",
      "metadata": {
        "id": "T0jW0Wso9k5A",
        "colab_type": "code",
        "colab": {
          "base_uri": "https://localhost:8080/",
          "height": 85
        },
        "outputId": "7c5bb537-cdfa-4713-a7c5-212f2d5779ae"
      },
      "source": [
        "a = int(input(\"Enter side 1 \"))\n",
        "b = int(input(\"Enter side 2 \"))\n",
        "c = int(input(\"Enter side 3 \"))\n",
        "if (a+b>c) :\n",
        "  print(\"Valid triangle\")\n",
        "else :\n",
        "  print(\"not a triangle\")"
      ],
      "execution_count": 30,
      "outputs": [
        {
          "output_type": "stream",
          "text": [
            "Enter side 1 3\n",
            "Enter side 2 4\n",
            "Enter side 3 5\n",
            "Valid triangle\n"
          ],
          "name": "stdout"
        }
      ]
    },
    {
      "cell_type": "code",
      "metadata": {
        "id": "L8vdzq8u-la8",
        "colab_type": "code",
        "colab": {
          "base_uri": "https://localhost:8080/",
          "height": 51
        },
        "outputId": "e4442d7e-0eed-48b0-a294-0e6fc58f620c"
      },
      "source": [
        "temp = int(input(\"Enter temperature \"))\n",
        "F=((9/5)*temp+32)\n",
        "print(F)"
      ],
      "execution_count": 35,
      "outputs": [
        {
          "output_type": "stream",
          "text": [
            "Enter temperature 32\n",
            "89.6\n"
          ],
          "name": "stdout"
        }
      ]
    }
  ]
}