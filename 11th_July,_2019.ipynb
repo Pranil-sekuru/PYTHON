{
  "nbformat": 4,
  "nbformat_minor": 0,
  "metadata": {
    "colab": {
      "name": "11th July, 2019",
      "version": "0.3.2",
      "provenance": [],
      "collapsed_sections": [],
      "include_colab_link": true
    },
    "kernelspec": {
      "name": "python3",
      "display_name": "Python 3"
    }
  },
  "cells": [
    {
      "cell_type": "markdown",
      "metadata": {
        "id": "view-in-github",
        "colab_type": "text"
      },
      "source": [
        "<a href=\"https://colab.research.google.com/github/Pranil-sekuru/PYTHON/blob/master/11th_July%2C_2019.ipynb\" target=\"_parent\"><img src=\"https://colab.research.google.com/assets/colab-badge.svg\" alt=\"Open In Colab\"/></a>"
      ]
    },
    {
      "cell_type": "markdown",
      "metadata": {
        "id": "a7ko3olTJ2ju",
        "colab_type": "text"
      },
      "source": [
        "### Standard libraries\n",
        "\n",
        "- File I/O\n",
        "- Regular Expression\n",
        "- Datetime\n",
        "- Math (numerical and Mathematical)\n",
        "\n"
      ]
    },
    {
      "cell_type": "markdown",
      "metadata": {
        "id": "VHaRVUaCKamV",
        "colab_type": "text"
      },
      "source": [
        "### File Handling in Python \n",
        "\n",
        "- File : Document containing information resides on the permanent storage \n",
        "- Different types of files - txt, doc, pdf, csv, etc\n",
        "- Input : Keyboard\n",
        "- Output : File\n",
        "\n",
        "\n",
        "#### Modes of the file I/O \n",
        "- 'w'  -- mode used for writing in file\n",
        "    \n",
        "    . If the file is not present, first it creates the file and then add data to it\n",
        "    . If the file is already present, it will overwrite the data\n",
        "    \n"
      ]
    },
    {
      "cell_type": "code",
      "metadata": {
        "id": "z2SgT5JRLvmV",
        "colab_type": "code",
        "outputId": "c689947a-e597-4dff-cdf8-ab2de865f2a5",
        "colab": {
          "base_uri": "https://localhost:8080/",
          "height": 34
        }
      },
      "source": [
        "# Function to create a file and write to the file\n",
        "\n",
        "def createFile(filename) : \n",
        "  f = open(filename,'w')\n",
        "  for i in range(10) :\n",
        "    f.write(\"This is %d line\\n\" % i)\n",
        "  print(\"File is created and data is written\")\n",
        "  return\n",
        "\n",
        "createFile('file1.txt')\n"
      ],
      "execution_count": 3,
      "outputs": [
        {
          "output_type": "stream",
          "text": [
            "File is created and data is written\n"
          ],
          "name": "stdout"
        }
      ]
    },
    {
      "cell_type": "code",
      "metadata": {
        "id": "76g1pSoKOkOv",
        "colab_type": "code",
        "outputId": "076a9dff-8c9c-4be3-b8ce-5459bb8aaac0",
        "colab": {
          "base_uri": "https://localhost:8080/",
          "height": 34
        }
      },
      "source": [
        "ls  # file\n"
      ],
      "execution_count": 4,
      "outputs": [
        {
          "output_type": "stream",
          "text": [
            "file1.txt  \u001b[0m\u001b[01;34msample_data\u001b[0m/\n"
          ],
          "name": "stdout"
        }
      ]
    },
    {
      "cell_type": "code",
      "metadata": {
        "id": "WOoy67sYNCWP",
        "colab_type": "code",
        "outputId": "52fa88d1-f899-4278-8299-b978365ca02f",
        "colab": {
          "base_uri": "https://localhost:8080/",
          "height": 187
        }
      },
      "source": [
        "cat file1.txt"
      ],
      "execution_count": 5,
      "outputs": [
        {
          "output_type": "stream",
          "text": [
            "This is 0 line\n",
            "This is 1 line\n",
            "This is 2 line\n",
            "This is 3 line\n",
            "This is 4 line\n",
            "This is 5 line\n",
            "This is 6 line\n",
            "This is 7 line\n",
            "This is 8 line\n",
            "This is 9 line\n"
          ],
          "name": "stdout"
        }
      ]
    },
    {
      "cell_type": "code",
      "metadata": {
        "id": "htXfE_eYQRsD",
        "colab_type": "code",
        "outputId": "1b4fa033-89fb-4c91-8510-904fc9adf9fd",
        "colab": {
          "base_uri": "https://localhost:8080/",
          "height": 34
        }
      },
      "source": [
        "\n",
        "def appendData(filename) :\n",
        "  f = open(filename,'w') \n",
        "  for i in range(10) :\n",
        "    f.write(\"This is %d line\\n\" % i)\n",
        "  print(\"File created and data written\")\n",
        "  return\n",
        "appendData('file1.txt')\n"
      ],
      "execution_count": 6,
      "outputs": [
        {
          "output_type": "stream",
          "text": [
            "File created and data written\n"
          ],
          "name": "stdout"
        }
      ]
    },
    {
      "cell_type": "code",
      "metadata": {
        "id": "tgiA3AP2Tdd3",
        "colab_type": "code",
        "outputId": "50af14ac-5bb8-46f1-d084-cc98a02ab13d",
        "colab": {
          "base_uri": "https://localhost:8080/",
          "height": 187
        }
      },
      "source": [
        "cat file1.txt"
      ],
      "execution_count": 7,
      "outputs": [
        {
          "output_type": "stream",
          "text": [
            "This is 0 line\n",
            "This is 1 line\n",
            "This is 2 line\n",
            "This is 3 line\n",
            "This is 4 line\n",
            "This is 5 line\n",
            "This is 6 line\n",
            "This is 7 line\n",
            "This is 8 line\n",
            "This is 9 line\n"
          ],
          "name": "stdout"
        }
      ]
    },
    {
      "cell_type": "code",
      "metadata": {
        "id": "OVHLSLTeTWbd",
        "colab_type": "code",
        "outputId": "25c9d8f2-b10c-4451-c76b-f91fd414f3eb",
        "colab": {
          "base_uri": "https://localhost:8080/",
          "height": 34
        }
      },
      "source": [
        "\n",
        "def appendData(filename) :\n",
        "  f = open(filename,'a') \n",
        "  for i in range(5) :\n",
        "    f.write(\"New line %d \\n\" % i)\n",
        "  print(\"File created and data written\")\n",
        "  f.close()\n",
        "  return\n",
        "appendData('file1.txt')\n"
      ],
      "execution_count": 8,
      "outputs": [
        {
          "output_type": "stream",
          "text": [
            "File created and data written\n"
          ],
          "name": "stdout"
        }
      ]
    },
    {
      "cell_type": "code",
      "metadata": {
        "id": "ZK0YixYOSoBu",
        "colab_type": "code",
        "outputId": "3686f9ce-be55-441f-85f7-46709bf852e9",
        "colab": {
          "base_uri": "https://localhost:8080/",
          "height": 272
        }
      },
      "source": [
        "cat file1.txt"
      ],
      "execution_count": 9,
      "outputs": [
        {
          "output_type": "stream",
          "text": [
            "This is 0 line\n",
            "This is 1 line\n",
            "This is 2 line\n",
            "This is 3 line\n",
            "This is 4 line\n",
            "This is 5 line\n",
            "This is 6 line\n",
            "This is 7 line\n",
            "This is 8 line\n",
            "This is 9 line\n",
            "New line 0 \n",
            "New line 1 \n",
            "New line 2 \n",
            "New line 3 \n",
            "New line 4 \n"
          ],
          "name": "stdout"
        }
      ]
    },
    {
      "cell_type": "code",
      "metadata": {
        "id": "VWA-yQs9Tlpo",
        "colab_type": "code",
        "outputId": "215a8da6-e942-449c-c26a-dd3534d2acf6",
        "colab": {
          "base_uri": "https://localhost:8080/",
          "height": 289
        }
      },
      "source": [
        "\n",
        "def readData(filename) :\n",
        "  f = open(filename,'r') \n",
        "  if f.mode == 'r' :\n",
        "    x = f.read()\n",
        "    print(x)\n",
        "  f.close()\n",
        "  return\n",
        "readData('file1.txt')\n"
      ],
      "execution_count": 10,
      "outputs": [
        {
          "output_type": "stream",
          "text": [
            "This is 0 line\n",
            "This is 1 line\n",
            "This is 2 line\n",
            "This is 3 line\n",
            "This is 4 line\n",
            "This is 5 line\n",
            "This is 6 line\n",
            "This is 7 line\n",
            "This is 8 line\n",
            "This is 9 line\n",
            "New line 0 \n",
            "New line 1 \n",
            "New line 2 \n",
            "New line 3 \n",
            "New line 4 \n",
            "\n"
          ],
          "name": "stdout"
        }
      ]
    },
    {
      "cell_type": "code",
      "metadata": {
        "id": "qG-2S84SWfNu",
        "colab_type": "code",
        "colab": {
          "base_uri": "https://localhost:8080/",
          "height": 68
        },
        "outputId": "212794ea-e702-42f6-ec64-2a7313a5d9f2"
      },
      "source": [
        "# Function to read the file\n",
        "def fileOperation(filename,mode) :\n",
        "  with open(filename,mode) as f :\n",
        "    if f.mode == 'r' :\n",
        "      data = f.read()\n",
        "      print(data)\n",
        "    elif f.mode == 'a' :\n",
        "      f.write(\"Data to the file\")\n",
        "      print(\"Data written to file\")\n",
        "  f.close()\n",
        "  return\n",
        "filename = input(\"Enter the file name - \")\n",
        "mode = input(\"Enter the mode of the file - \")\n",
        "fileOperation(filename,mode)\n"
      ],
      "execution_count": 13,
      "outputs": [
        {
          "output_type": "stream",
          "text": [
            "Enter the file name - namedata.txt\n",
            "Enter the mode of the file - r\n",
            "Data to the file\n"
          ],
          "name": "stdout"
        }
      ]
    },
    {
      "cell_type": "code",
      "metadata": {
        "id": "kLu0iwP8ZTTk",
        "colab_type": "code",
        "outputId": "f99b9769-7a4e-4369-a38e-2e28cd4f95a4",
        "colab": {
          "base_uri": "https://localhost:8080/",
          "height": 68
        }
      },
      "source": [
        "# Data Analysis \n",
        "# Word count program\n",
        "\n",
        "def wordCount(filename,word) :\n",
        "  with open(filename,'r') as f :\n",
        "    if f.mode == 'r' :\n",
        "      x = f.read()\n",
        "      li = x.split()  # Splits string eith whitespace\n",
        "    cnt = li.count(word)\n",
        "  return cnt \n",
        "filename = input(\"Enter the file name - \")\n",
        "word = input(\"Enter the word to search - \")\n",
        "wordCount(filename,word)\n"
      ],
      "execution_count": 14,
      "outputs": [
        {
          "output_type": "stream",
          "text": [
            "Enter the file name - namedata.txt\n",
            "Enter the word to search - This \n"
          ],
          "name": "stdout"
        },
        {
          "output_type": "execute_result",
          "data": {
            "text/plain": [
              "0"
            ]
          },
          "metadata": {
            "tags": []
          },
          "execution_count": 14
        }
      ]
    },
    {
      "cell_type": "code",
      "metadata": {
        "id": "9bXRF2q5p1nz",
        "colab_type": "code",
        "colab": {
          "base_uri": "https://localhost:8080/",
          "height": 51
        },
        "outputId": "11309e34-a8c1-4d59-ece5-052e61f2775f"
      },
      "source": [
        "# character count from the given file\n",
        "\n",
        "def charCount(filename) :\n",
        "  with open(filename,'r') as f :\n",
        "    if f.mode == 'r':\n",
        "      x = f.read()\n",
        "      li = list(x)\n",
        "  return len(li)\n",
        "filename = input(\"Enter the filename - \")\n",
        "charCount(filename)\n"
      ],
      "execution_count": 15,
      "outputs": [
        {
          "output_type": "stream",
          "text": [
            "Enter the filename - file1.txt\n"
          ],
          "name": "stdout"
        },
        {
          "output_type": "execute_result",
          "data": {
            "text/plain": [
              "210"
            ]
          },
          "metadata": {
            "tags": []
          },
          "execution_count": 15
        }
      ]
    },
    {
      "cell_type": "code",
      "metadata": {
        "id": "_och1XsnuN6D",
        "colab_type": "code",
        "colab": {
          "base_uri": "https://localhost:8080/",
          "height": 51
        },
        "outputId": "122ae042-edca-4e7c-dccc-3bc88d54a2eb"
      },
      "source": [
        "# Function to find no. of lines in file \n",
        "\n",
        "def lineCount(finename) :\n",
        "  cnt = 0\n",
        "  with open(filename,'r') as f :\n",
        "    if f.mode == 'r':\n",
        "      x = f.read()\n",
        "      li = x.split(\"\\n\")\n",
        "  return len(li)\n",
        "filename = input(\"Enter the filename - \")\n",
        "lineCount(filename)\n"
      ],
      "execution_count": 18,
      "outputs": [
        {
          "output_type": "stream",
          "text": [
            "Enter the filename - file1.txt\n"
          ],
          "name": "stdout"
        },
        {
          "output_type": "execute_result",
          "data": {
            "text/plain": [
              "16"
            ]
          },
          "metadata": {
            "tags": []
          },
          "execution_count": 18
        }
      ]
    },
    {
      "cell_type": "code",
      "metadata": {
        "id": "-IB3lYHGwSue",
        "colab_type": "code",
        "colab": {
          "base_uri": "https://localhost:8080/",
          "height": 51
        },
        "outputId": "eaf39256-0dba-4806-82a5-c7934e7f52f6"
      },
      "source": [
        "# Function to find count of the upper and lower case characters in the file\n",
        "\n",
        "def caseCount(filename) :\n",
        "  ucnt = 0 \n",
        "  lcnt = 0\n",
        "  with open(filename,'r') as f :\n",
        "    if f.mode == 'r' :\n",
        "      x = f.read()\n",
        "      li = list(x)\n",
        "      \n",
        "  for i in li :\n",
        "    if i.isupper() :\n",
        "      ucnt += 1\n",
        "    elif i.islower() :\n",
        "      lcnt += 1\n",
        "  output = 'Upper case =  {0}, lower case = {1}'.format(ucnt,lcnt)\n",
        "  return output\n",
        "filename = input(\"Enter the filename - \")\n",
        "caseCount(filename)\n"
      ],
      "execution_count": 20,
      "outputs": [
        {
          "output_type": "stream",
          "text": [
            "Enter the filename - file1.txt\n"
          ],
          "name": "stdout"
        },
        {
          "output_type": "execute_result",
          "data": {
            "text/plain": [
              "'Upper case =  15, lower case = 120'"
            ]
          },
          "metadata": {
            "tags": []
          },
          "execution_count": 20
        }
      ]
    },
    {
      "cell_type": "markdown",
      "metadata": {
        "id": "PvM9Ha6M0fil",
        "colab_type": "text"
      },
      "source": [
        "### math, random, os\n",
        "\n",
        "- os package contains the certain methods which works with OS\n",
        "\n",
        "## Operating System"
      ]
    },
    {
      "cell_type": "code",
      "metadata": {
        "id": "nWL1x5VO1l6K",
        "colab_type": "code",
        "colab": {
          "base_uri": "https://localhost:8080/",
          "height": 34
        },
        "outputId": "3c7c3bcc-76fb-464f-ac48-9c0144732e02"
      },
      "source": [
        "ls\n"
      ],
      "execution_count": 25,
      "outputs": [
        {
          "output_type": "stream",
          "text": [
            "file1.txt  namedata.txt  \u001b[0m\u001b[01;34msample_data\u001b[0m/\n"
          ],
          "name": "stdout"
        }
      ]
    },
    {
      "cell_type": "code",
      "metadata": {
        "id": "_EbRmdJF294e",
        "colab_type": "code",
        "colab": {}
      },
      "source": [
        "# Jupyter notebooks\n",
        "# import os\n",
        "# os.listdir('folder name')  --> listdir() -- ls\n",
        "# list of files in that folder in the local system\n",
        "\n",
        "li = os.listdir('Git/')\n",
        "for i in li :\n",
        "  print(i)\n",
        "# gives the list of all the"
      ],
      "execution_count": 0,
      "outputs": []
    },
    {
      "cell_type": "markdown",
      "metadata": {
        "id": "uzdINpYa5XC2",
        "colab_type": "text"
      },
      "source": [
        "-    Older version of python -- os.listdir()\n",
        "-    New version of Python -- os.scandir() and pathlib.Path()\n"
      ]
    },
    {
      "cell_type": "code",
      "metadata": {
        "id": "EeJoeviH7Mzg",
        "colab_type": "code",
        "colab": {}
      },
      "source": [
        "li = os.scandir('Git/')\n",
        "for i in li :\n",
        "  print(i)\n"
      ],
      "execution_count": 0,
      "outputs": []
    },
    {
      "cell_type": "code",
      "metadata": {
        "id": "NQrQPxNp7PkV",
        "colab_type": "code",
        "colab": {}
      },
      "source": [
        "#Jupyter\n",
        "from pathlib import Path \n",
        "li = Path('Git/')\n",
        "for i in li.iterdir() :\n",
        "  print(i.name)\n",
        "  "
      ],
      "execution_count": 0,
      "outputs": []
    },
    {
      "cell_type": "markdown",
      "metadata": {
        "id": "we2uUVEzNdcV",
        "colab_type": "text"
      },
      "source": [
        "### Listing all files in a Directory\n"
      ]
    },
    {
      "cell_type": "code",
      "metadata": {
        "id": "NWx1uyFLNin9",
        "colab_type": "code",
        "colab": {}
      },
      "source": [
        "#Jupyter\n",
        "import os\n",
        "dirPath = \"Git/\"\n",
        "for i in os.listdir(dirPath) :  # listdir(dirPath) - All files and folders\n",
        "  if os.path.isfile(os.path.join(dirPath,i)) :\n",
        "    print(i)\n",
        "\n"
      ],
      "execution_count": 0,
      "outputs": []
    },
    {
      "cell_type": "code",
      "metadata": {
        "id": "W4BZUk2tOLgZ",
        "colab_type": "code",
        "colab": {
          "base_uri": "https://localhost:8080/",
          "height": 34
        },
        "outputId": "56f5d9e9-ffbf-404d-9583-f553d9b4e1b7"
      },
      "source": [
        "ls"
      ],
      "execution_count": 32,
      "outputs": [
        {
          "output_type": "stream",
          "text": [
            "file1.txt  namedata.txt  \u001b[0m\u001b[01;34mPythonPorg\u001b[0m/  \u001b[01;34msample_data\u001b[0m/\n"
          ],
          "name": "stdout"
        }
      ]
    },
    {
      "cell_type": "code",
      "metadata": {
        "id": "2ig4qseCO3PG",
        "colab_type": "code",
        "colab": {
          "base_uri": "https://localhost:8080/",
          "height": 51
        },
        "outputId": "72a4b185-a319-430e-b545-b63b8f672bee"
      },
      "source": [
        "cd 'PythonPorg/'"
      ],
      "execution_count": 37,
      "outputs": [
        {
          "output_type": "stream",
          "text": [
            "[Errno 2] No such file or directory: 'PythonPorg/'\n",
            "/content/PythonPorg\n"
          ],
          "name": "stdout"
        }
      ]
    },
    {
      "cell_type": "code",
      "metadata": {
        "id": "wsUqwvMIQJJb",
        "colab_type": "code",
        "colab": {
          "base_uri": "https://localhost:8080/",
          "height": 34
        },
        "outputId": "c4e6b3e1-df5e-4ae8-e549-8d80f212a661"
      },
      "source": [
        "pwd"
      ],
      "execution_count": 39,
      "outputs": [
        {
          "output_type": "execute_result",
          "data": {
            "text/plain": [
              "'/content/PythonPorg'"
            ]
          },
          "metadata": {
            "tags": []
          },
          "execution_count": 39
        }
      ]
    },
    {
      "cell_type": "code",
      "metadata": {
        "id": "odoyYSa6QPJd",
        "colab_type": "code",
        "colab": {}
      },
      "source": [
        "# Jupyter!\n",
        "\n",
        "dirPath = 'Git/'\n",
        "with os.scandir(dirPath) as f :\n",
        "  for i in f :\n",
        "    if i.is_file():\n",
        "      print(i.name)"
      ],
      "execution_count": 0,
      "outputs": []
    },
    {
      "cell_type": "markdown",
      "metadata": {
        "id": "mV5lOYkpSJ6j",
        "colab_type": "text"
      },
      "source": [
        "### Listing subdirectories"
      ]
    },
    {
      "cell_type": "code",
      "metadata": {
        "id": "Vp8DprxbScz6",
        "colab_type": "code",
        "colab": {}
      },
      "source": [
        "# Jupyter\n",
        "dirPath = 'Git/'\n",
        "for i in os.listdir(dirPath) :\n",
        "  if os.path.isdir(os.path.join(dirPath,i)) :\n",
        "    print(i)\n"
      ],
      "execution_count": 0,
      "outputs": []
    },
    {
      "cell_type": "code",
      "metadata": {
        "id": "9wyS4O6GShYI",
        "colab_type": "code",
        "colab": {}
      },
      "source": [
        "# Jupyter\n",
        "from pathlib import Path\n",
        "dirPath = Path('Git/')\n",
        "for i in dirPath.iterdir():\n",
        "  if i.is_dir():\n",
        "    print(i.name)"
      ],
      "execution_count": 0,
      "outputs": []
    },
    {
      "cell_type": "code",
      "metadata": {
        "id": "fhsUzVODT6dz",
        "colab_type": "code",
        "colab": {}
      },
      "source": [
        "# Jupyter\n",
        "dirPath = 'Git/'\n",
        "with os.scandir(dirPath) as f :\n",
        "  for i in f :\n",
        "    if i.is_dir() :\n",
        "      print(i.name)"
      ],
      "execution_count": 0,
      "outputs": []
    },
    {
      "cell_type": "markdown",
      "metadata": {
        "id": "hvyMVijuUJ0B",
        "colab_type": "text"
      },
      "source": [
        "##Creating a single directory "
      ]
    },
    {
      "cell_type": "code",
      "metadata": {
        "id": "2Qr4rqUlUOVP",
        "colab_type": "code",
        "colab": {}
      },
      "source": [
        "os.mkdir('SingleDirectory')\n"
      ],
      "execution_count": 0,
      "outputs": []
    },
    {
      "cell_type": "code",
      "metadata": {
        "id": "uwqDLDbsUc75",
        "colab_type": "code",
        "colab": {
          "base_uri": "https://localhost:8080/",
          "height": 34
        },
        "outputId": "0c6fbcd9-0eb9-47d3-9558-a03e8d39e139"
      },
      "source": [
        "ls\n"
      ],
      "execution_count": 44,
      "outputs": [
        {
          "output_type": "stream",
          "text": [
            "\u001b[0m\u001b[01;34mSingleDirectory\u001b[0m/\n"
          ],
          "name": "stdout"
        }
      ]
    },
    {
      "cell_type": "code",
      "metadata": {
        "id": "JYeu1obDUghj",
        "colab_type": "code",
        "colab": {}
      },
      "source": [
        "import os"
      ],
      "execution_count": 0,
      "outputs": []
    },
    {
      "cell_type": "code",
      "metadata": {
        "id": "wbCLWPqCUj75",
        "colab_type": "code",
        "colab": {}
      },
      "source": [
        "import pathlib\n",
        "p = pathlib.Path('Test Folder')\n",
        "p.mkdir()"
      ],
      "execution_count": 0,
      "outputs": []
    },
    {
      "cell_type": "code",
      "metadata": {
        "id": "DdiWysLoVE7H",
        "colab_type": "code",
        "colab": {
          "base_uri": "https://localhost:8080/",
          "height": 34
        },
        "outputId": "d544228a-b253-46f5-9f69-2cf6150ecac4"
      },
      "source": [
        "ls"
      ],
      "execution_count": 50,
      "outputs": [
        {
          "output_type": "stream",
          "text": [
            " \u001b[0m\u001b[01;34mSingleDirectory\u001b[0m/  \u001b[01;34m'Test Folder'\u001b[0m/\n"
          ],
          "name": "stdout"
        }
      ]
    },
    {
      "cell_type": "markdown",
      "metadata": {
        "id": "4LzF7PhKWVeK",
        "colab_type": "text"
      },
      "source": [
        "##Creating multiple directories "
      ]
    },
    {
      "cell_type": "code",
      "metadata": {
        "id": "nxpswCIDXkiU",
        "colab_type": "code",
        "colab": {}
      },
      "source": [
        "import os\n",
        "os.makedirs('2019/July/11')"
      ],
      "execution_count": 0,
      "outputs": []
    },
    {
      "cell_type": "code",
      "metadata": {
        "id": "bw_gLAhtXvSE",
        "colab_type": "code",
        "colab": {
          "base_uri": "https://localhost:8080/",
          "height": 34
        },
        "outputId": "7bd91526-2390-4427-df21-5052ec2a6424"
      },
      "source": [
        "ls\n"
      ],
      "execution_count": 53,
      "outputs": [
        {
          "output_type": "stream",
          "text": [
            " \u001b[0m\u001b[01;34m2019\u001b[0m/   \u001b[01;34mSingleDirectory\u001b[0m/  \u001b[01;34m'Test Folder'\u001b[0m/\n"
          ],
          "name": "stdout"
        }
      ]
    },
    {
      "cell_type": "markdown",
      "metadata": {
        "id": "y4NDAEJdZlo6",
        "colab_type": "text"
      },
      "source": [
        "### Filename Pattern Matching\n"
      ]
    },
    {
      "cell_type": "code",
      "metadata": {
        "id": "j8ln-VNdZjvG",
        "colab_type": "code",
        "colab": {}
      },
      "source": [
        "# Jupyter\n",
        "import os\n",
        "dirPath = 'Git/'\n",
        "for f_name in os.listdir(dirPath) :\n",
        "  if f_name.endswith('.ipynb') :\n",
        "    print(f_name)"
      ],
      "execution_count": 0,
      "outputs": []
    },
    {
      "cell_type": "code",
      "metadata": {
        "id": "o0VTNA4SZ87k",
        "colab_type": "code",
        "colab": {}
      },
      "source": [
        "# Jupyter\n",
        "import os\n",
        "dirPath = 'Git/'\n",
        "for f_name in os.listdir(dirPath) :\n",
        "  if f_name.startswith('05') :\n",
        "    print(f_name)\n"
      ],
      "execution_count": 0,
      "outputs": []
    },
    {
      "cell_type": "markdown",
      "metadata": {
        "id": "JDkRhI1KalmM",
        "colab_type": "text"
      },
      "source": [
        "###Deleting Files and Directories  "
      ]
    },
    {
      "cell_type": "code",
      "metadata": {
        "id": "N2S2iOPKa52c",
        "colab_type": "code",
        "colab": {}
      },
      "source": [
        "import os\n",
        "data_file = 'file.txt'\n",
        "os.remove(data_file)"
      ],
      "execution_count": 0,
      "outputs": []
    },
    {
      "cell_type": "code",
      "metadata": {
        "id": "8X8figkIc1qH",
        "colab_type": "code",
        "colab": {}
      },
      "source": [
        "data_dir = 'Test Folder'\n",
        "os.rmdir(data_dir)"
      ],
      "execution_count": 0,
      "outputs": []
    },
    {
      "cell_type": "code",
      "metadata": {
        "id": "Hzaq63o8dBoo",
        "colab_type": "code",
        "colab": {
          "base_uri": "https://localhost:8080/",
          "height": 34
        },
        "outputId": "80469c38-2fa4-4e04-b477-408825a51b5c"
      },
      "source": [
        "ls\n"
      ],
      "execution_count": 55,
      "outputs": [
        {
          "output_type": "stream",
          "text": [
            "\u001b[0m\u001b[01;34m2019\u001b[0m/  \u001b[01;34mSingleDirectory\u001b[0m/\n"
          ],
          "name": "stdout"
        }
      ]
    },
    {
      "cell_type": "code",
      "metadata": {
        "id": "-rmyWVYCdLjn",
        "colab_type": "code",
        "colab": {}
      },
      "source": [
        "import shutil\n",
        "data_dir = '2019'\n",
        "shutil.rmtree(data_dir)"
      ],
      "execution_count": 0,
      "outputs": []
    },
    {
      "cell_type": "code",
      "metadata": {
        "id": "Uk0AbhJgd5WN",
        "colab_type": "code",
        "colab": {
          "base_uri": "https://localhost:8080/",
          "height": 34
        },
        "outputId": "ac1e65a2-c8d4-470b-f276-a6c5d5b8ac17"
      },
      "source": [
        "ls\n"
      ],
      "execution_count": 59,
      "outputs": [
        {
          "output_type": "stream",
          "text": [
            "\u001b[0m\u001b[01;34mSingleDirectory\u001b[0m/\n"
          ],
          "name": "stdout"
        }
      ]
    },
    {
      "cell_type": "markdown",
      "metadata": {
        "id": "Hp0JMlOpf1u0",
        "colab_type": "text"
      },
      "source": [
        "##Regular Expressions !\n",
        " - Used for specific pattern matching\n",
        " - Symbolic notations of patterns\n",
        "   - Patterns (RE) represents set of the values\n",
        "   \n",
        "* regexpal.com  -  regular expressions\n",
        "\n",
        "\n",
        "Regex - \n",
        "[0-9] - test\n",
        "\n",
        "1, 2, 8, 4  - input\n",
        "\n",
        "[0-9] [2]  -- accepts a two digit number ending with 2\n",
        "\n",
        "[0-9] {2} -- accepts any two digit number\n",
        "\n",
        "[0-9] {2} $ -- accept only the last two digits of any number"
      ]
    },
    {
      "cell_type": "code",
      "metadata": {
        "id": "72a4ikzAf4Lx",
        "colab_type": "code",
        "colab": {}
      },
      "source": [
        ""
      ],
      "execution_count": 0,
      "outputs": []
    }
  ]
}