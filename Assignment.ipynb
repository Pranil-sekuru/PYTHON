{
  "nbformat": 4,
  "nbformat_minor": 0,
  "metadata": {
    "colab": {
      "name": " Assignment.ipynb ",
      "version": "0.3.2",
      "provenance": [],
      "collapsed_sections": [],
      "include_colab_link": true
    },
    "kernelspec": {
      "name": "python3",
      "display_name": "Python 3"
    }
  },
  "cells": [
    {
      "cell_type": "markdown",
      "metadata": {
        "id": "view-in-github",
        "colab_type": "text"
      },
      "source": [
        "<a href=\"https://colab.research.google.com/github/Pranil-sekuru/PYTHON/blob/master/Assignment.ipynb\" target=\"_parent\"><img src=\"https://colab.research.google.com/assets/colab-badge.svg\" alt=\"Open In Colab\"/></a>"
      ]
    },
    {
      "cell_type": "code",
      "metadata": {
        "id": "cYFaFhsUSfA9",
        "colab_type": "code",
        "colab": {}
      },
      "source": [
        "# 1 - fibonacci in reverse\n",
        "\n",
        "def fib(n) :\n",
        "  x = 0\n",
        "  y = 1\n",
        "  \n",
        "  lst.append(x)\n",
        "  lst.append(y)\n",
        "  for i in range(3,n+1) :\n",
        "    a = x + y\n",
        "    x = y\n",
        "    y = a\n",
        "    lst.append(a)\n",
        "  print(lst)\n",
        "  return\n",
        "\n",
        "lst = []\n",
        "n = int(input(\"Enter no. of terms in series - \"))\n",
        "fib(n)\n",
        "lst.reverse()\n",
        "print(lst)\n"
      ],
      "execution_count": 0,
      "outputs": []
    },
    {
      "cell_type": "code",
      "metadata": {
        "id": "CZdmG8tuVHuu",
        "colab_type": "code",
        "colab": {}
      },
      "source": [
        "# 2 - Condition\n",
        "\n",
        "def con(n) :\n",
        "  lst = []\n",
        "  sum = 0\n",
        "  for i in range(1,n+1) :\n",
        "    z = input()\n",
        "    lst.append(z)\n",
        "  for i in range(len(lst)) :\n",
        "    if lst.count(lst[i])==1 :\n",
        "      sum = sum + int(lst[i])\n",
        "  \n",
        "  if sum == 0 :\n",
        "    return -1\n",
        "  else :\n",
        "    return sum\n",
        "    \n",
        "#lst = [1,2,3,2,5]\n",
        "#li = [1,2,1,2,1]\n",
        "n = int(input(\"Enter no. of terms - \"))\n",
        "con(n)\n",
        "\n",
        "\n"
      ],
      "execution_count": 0,
      "outputs": []
    },
    {
      "cell_type": "code",
      "metadata": {
        "id": "HYVm3xn5ZFW8",
        "colab_type": "code",
        "colab": {}
      },
      "source": [
        "# 3 - Simultaneous printing\n",
        "\n",
        "def func(a) :\n",
        "  for x in range(1,a) :\n",
        "    if s1[x] is false :\n",
        "      print(\"*\",s2[x])\n",
        "    elif s2[x] is false :\n",
        "      print(s1,\"*\")\n",
        "    else :\n",
        "      print(s1[x],s2[x])\n",
        "  return\n",
        "\n",
        "\n",
        "\n",
        "n1 = int(input(\"S1 length = \"))\n",
        "n2 = int(input(\"S2 length = \"))\n",
        "\n",
        "if n1 <= 100 and n1 >=1 and n2 <= 100 and n2 >=1 :\n",
        "  print(\"S1 : \")\n",
        "  str1 = input()\n",
        "  print(\"S2 : \")\n",
        "  str2 = input()\n",
        "else :\n",
        "  print(\"Wrong length\")\n",
        "\n",
        "if n1>n2 :\n",
        "  a = n1\n",
        "else :\n",
        "  a = n2\n",
        "func(a)\n",
        "\n",
        "\n"
      ],
      "execution_count": 0,
      "outputs": []
    },
    {
      "cell_type": "code",
      "metadata": {
        "id": "5k4AtLshgPN4",
        "colab_type": "code",
        "colab": {}
      },
      "source": [
        "def func(a) :\n",
        "  for x in range(0,a+1) :\n",
        "    if x >= len(s1) :\n",
        "      print(\"*\",s2[x])\n",
        "    elif x >= len(s2) :\n",
        "      print(s1[x],\"*\")\n",
        "    elif x < len(s1) and x < len(s2) :\n",
        "      print(s1[x],s2[x])\n",
        "    else :\n",
        "      break\n",
        "  return\n",
        "\n",
        "s1 = \"bad\"\n",
        "s2 = \"water\"\n",
        "\n",
        "if len(s1)>len(s2) :\n",
        "  a = len(s1)\n",
        "else :\n",
        "  a = len(s2)\n",
        "func(a)"
      ],
      "execution_count": 0,
      "outputs": []
    },
    {
      "cell_type": "code",
      "metadata": {
        "id": "a7Ztib0JaQl6",
        "colab_type": "code",
        "colab": {}
      },
      "source": [
        "# EXTRAAA\n",
        "if n1 <= 100 and n1 >=1 and n2 <= 100 and n2 >=1 :\n",
        "  print(\"S1 : \")\n",
        "  for i in range(1,n) :\n",
        "    z = input()\n",
        "    s1.append(z)\n",
        "  print(\"S2 : \")\n",
        "  for i in range(1,n) :\n",
        "    z = input()\n",
        "    s2.append(z)\n",
        "else :\n",
        "  print(\"Wrong length\")\n",
        "\n",
        "if n1>n2 :\n",
        "  a = n1\n",
        "else :\n",
        "  a = n2\n",
        "  \n",
        "\n",
        "func(a)"
      ],
      "execution_count": 0,
      "outputs": []
    },
    {
      "cell_type": "code",
      "metadata": {
        "id": "liiXfnlokgrK",
        "colab_type": "code",
        "colab": {}
      },
      "source": [
        "# 4 - longest word in string\n",
        "\n",
        "print(\"Enter string - \")\n",
        "str = input()\n",
        "li = str.split()\n",
        "print(li)\n",
        "\n",
        "for x in range(len(li)) :\n",
        "  if x == 0 :\n",
        "    long = li[0]\n",
        "  elif x == len(li) :\n",
        "    break\n",
        "  else :\n",
        "    if len(li[x]) < len(li[x+1]) :\n",
        "      long = li[x+1]\n",
        "print(\"Longest word = \", long)"
      ],
      "execution_count": 0,
      "outputs": []
    },
    {
      "cell_type": "code",
      "metadata": {
        "id": "xVOLnYN3CH4T",
        "colab_type": "code",
        "colab": {}
      },
      "source": [
        "# 10 \n",
        "n = int(input(\"Number of terms \"))\n",
        "a = 1\n",
        "print(a, end = \" \")\n",
        "for i in range(1,n+1) :\n",
        "  i = a * 3\n",
        "  a = i\n",
        "  print(i,end = \" \")"
      ],
      "execution_count": 0,
      "outputs": []
    },
    {
      "cell_type": "code",
      "metadata": {
        "id": "K4PHl-Y1CJTW",
        "colab_type": "code",
        "colab": {}
      },
      "source": [
        "# 11\n",
        "n = int(input(\"Number of terms \"))\n",
        "a = 1\n",
        "print(a, end = \" \")\n",
        "for i in range(1,n+1) :\n",
        "  i = a * 2\n",
        "  a = i\n",
        "  print(i,end = \" \")"
      ],
      "execution_count": 0,
      "outputs": []
    },
    {
      "cell_type": "code",
      "metadata": {
        "id": "5ZsjiOXTFSOp",
        "colab_type": "code",
        "colab": {}
      },
      "source": [
        "# 14\n",
        "n = int(input(\"Number of terms \"))\n",
        "sum = 0\n",
        "fact = 1\n",
        "for i in range(1,n+1) :\n",
        "  for x in range(1,i+1) :\n",
        "    fact = fact * x\n",
        "  print(fact)\n",
        "  sum = sum + fact\n",
        "print(\"sum = \",sum)"
      ],
      "execution_count": 0,
      "outputs": []
    }
  ]
}