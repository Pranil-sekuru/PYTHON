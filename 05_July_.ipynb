{
  "nbformat": 4,
  "nbformat_minor": 0,
  "metadata": {
    "colab": {
      "name": "05 July .ipynb",
      "version": "0.3.2",
      "provenance": [],
      "collapsed_sections": []
    },
    "kernelspec": {
      "name": "python3",
      "display_name": "Python 3"
    }
  },
  "cells": [
    {
      "cell_type": "markdown",
      "metadata": {
        "id": "y6np0xzWb9r-",
        "colab_type": "text"
      },
      "source": [
        "#Markdown Basics\n",
        "##Markdown Basics\n",
        "###Markdown Basics\n",
        "####Markdown Basics\n",
        "\n",
        "\n",
        "\n",
        "*   **point1** (bold)\n",
        "*   *point2* (italic)\n",
        "*   ***point3*** (bold and italic)\n",
        "\n",
        "\n",
        "\n",
        "*   Noramal text\n",
        "    * Sublist 1\n",
        "    * sublist 2\n",
        "    \n",
        "    > 1. point1\n",
        "    > 2. point2\n",
        "    \n",
        "\n",
        "***Adding links to markdown***\n",
        "\n",
        "  * Google site --- [1.] : https://www.google.com \n",
        "  * ask -- [2.] : https://www.ask."
      ]
    },
    {
      "cell_type": "code",
      "metadata": {
        "id": "SlQ8qtgzXS1G",
        "colab_type": "code",
        "colab": {
          "base_uri": "https://localhost:8080/",
          "height": 51
        },
        "outputId": "f15bc7a0-fe0f-4c7c-c0b7-a15199d666d6"
      },
      "source": [
        "print(\"Hello Gitam\")\n",
        "print(\"Hyderabad\")"
      ],
      "execution_count": 2,
      "outputs": [
        {
          "output_type": "stream",
          "text": [
            "Hello Gitam\n",
            "Hyderabad\n"
          ],
          "name": "stdout"
        }
      ]
    },
    {
      "cell_type": "code",
      "metadata": {
        "id": "qufz4CPlXvjz",
        "colab_type": "code",
        "colab": {
          "base_uri": "https://localhost:8080/",
          "height": 34
        },
        "outputId": "d6a505b4-f893-442a-ba8c-c83854476ba6"
      },
      "source": [
        "print(\"Hello, Gitam\", \" ||| \", end = \" \")\n",
        "print(\"Hyderabad\",end=\" ||| \")\n",
        "print(\"Python programming\")"
      ],
      "execution_count": 3,
      "outputs": [
        {
          "output_type": "stream",
          "text": [
            "Hello, Gitam  |||  Hyderabad ||| Python programming\n"
          ],
          "name": "stdout"
        }
      ]
    },
    {
      "cell_type": "code",
      "metadata": {
        "id": "Tq0jXFO5X1QL",
        "colab_type": "code",
        "colab": {
          "base_uri": "https://localhost:8080/",
          "height": 68
        },
        "outputId": "5f664a7b-2c41-45af-a77a-7fd42102c06d"
      },
      "source": [
        "n1 = 100  # single variable assignment\n",
        "a = b = c = 20  # multi variable assignment\n",
        "a1,b1,c1 = 111,222,333  # multi variable assignment with different values\n",
        "print(n1)\n",
        "print(a,b,c)\n",
        "print(a1,b1,c1)"
      ],
      "execution_count": 4,
      "outputs": [
        {
          "output_type": "stream",
          "text": [
            "100\n",
            "20 20 20\n",
            "111 222 333\n"
          ],
          "name": "stdout"
        }
      ]
    },
    {
      "cell_type": "markdown",
      "metadata": {
        "id": "Pb8MwGlSYEpm",
        "colab_type": "text"
      },
      "source": [
        "#Data types and conversion\n",
        "\n",
        "\n",
        "\n",
        "\n",
        "*   int\n",
        "*   float\n",
        "*   string\n",
        "\n",
        "\n",
        "\n",
        "\n",
        "\n"
      ]
    },
    {
      "cell_type": "code",
      "metadata": {
        "id": "FrJxFyVjYmRd",
        "colab_type": "code",
        "colab": {
          "base_uri": "https://localhost:8080/",
          "height": 153
        },
        "outputId": "220150b1-3c56-4e85-93f0-da1b3c931887"
      },
      "source": [
        "a = 100\n",
        "s1 = \"python\"\n",
        "s2 = 'P'\n",
        "f1 = 10.2\n",
        "print(a)\n",
        "print(s1)\n",
        "print(s2,f1)\n",
        "print(type(a))\n",
        "print(type(s1))\n",
        "print(type(s2))\n",
        "print(type(f1))\n",
        "print(type(a), type(s1), type(f1))\n"
      ],
      "execution_count": 5,
      "outputs": [
        {
          "output_type": "stream",
          "text": [
            "100\n",
            "python\n",
            "P 10.2\n",
            "<class 'int'>\n",
            "<class 'str'>\n",
            "<class 'str'>\n",
            "<class 'float'>\n",
            "<class 'int'> <class 'str'> <class 'float'>\n"
          ],
          "name": "stdout"
        }
      ]
    },
    {
      "cell_type": "markdown",
      "metadata": {
        "id": "mJn5JFnaY6ka",
        "colab_type": "text"
      },
      "source": [
        "###For figuring out the type of a particular variable put type(the_variable _name)"
      ]
    },
    {
      "cell_type": "code",
      "metadata": {
        "id": "MvdXpR_CY3mn",
        "colab_type": "code",
        "colab": {
          "base_uri": "https://localhost:8080/",
          "height": 68
        },
        "outputId": "e3ee7169-bca7-4e33-a4aa-a068df6bc40b"
      },
      "source": [
        "i = 100\n",
        "print(type(i))\n",
        "s1 = str(i)\n",
        "print(type(s1))\n",
        "f1=float(i)\n",
        "print(type(f1))\n"
      ],
      "execution_count": 7,
      "outputs": [
        {
          "output_type": "stream",
          "text": [
            "<class 'int'>\n",
            "<class 'str'>\n",
            "<class 'float'>\n"
          ],
          "name": "stdout"
        }
      ]
    },
    {
      "cell_type": "code",
      "metadata": {
        "id": "Iu1eownbZNzr",
        "colab_type": "code",
        "colab": {
          "base_uri": "https://localhost:8080/",
          "height": 85
        },
        "outputId": "43ca3517-437d-42da-c52f-646fe6a21165"
      },
      "source": [
        "s1 = \"100\"\n",
        "print(type(s1))\n",
        "a = int(s1)\n",
        "print(type(a))\n",
        "f = 1.5\n",
        "a1 = int(f)\n",
        "print(type(a1))\n",
        "print(a1)"
      ],
      "execution_count": 8,
      "outputs": [
        {
          "output_type": "stream",
          "text": [
            "<class 'str'>\n",
            "<class 'int'>\n",
            "<class 'int'>\n",
            "1\n"
          ],
          "name": "stdout"
        }
      ]
    },
    {
      "cell_type": "code",
      "metadata": {
        "id": "XYzyhvnoZWcq",
        "colab_type": "code",
        "colab": {
          "base_uri": "https://localhost:8080/",
          "height": 34
        },
        "outputId": "bf4e7d31-1cde-4279-d9a3-8420bc8169d0"
      },
      "source": [
        "# a number is given 1234 - \n",
        "# digit count\n",
        "a1 = 1234\n",
        "print(len(str(a1)))\n"
      ],
      "execution_count": 9,
      "outputs": [
        {
          "output_type": "stream",
          "text": [
            "4\n"
          ],
          "name": "stdout"
        }
      ]
    },
    {
      "cell_type": "markdown",
      "metadata": {
        "id": "RzqWlG-3Zfb1",
        "colab_type": "text"
      },
      "source": [
        "###Reading a message\n",
        "\n",
        "input(\"Message\") --string"
      ]
    },
    {
      "cell_type": "code",
      "metadata": {
        "id": "G2NwHnPRZtzS",
        "colab_type": "code",
        "colab": {
          "base_uri": "https://localhost:8080/",
          "height": 68
        },
        "outputId": "83da5f4a-38eb-43a4-c5d5-0b5bd8ed9657"
      },
      "source": [
        "s1 = input(\"Enter your name\")\n",
        "print(s1)\n",
        "print(type(s1))\n"
      ],
      "execution_count": 10,
      "outputs": [
        {
          "output_type": "stream",
          "text": [
            "Enter your namePranil\n",
            "Pranil\n",
            "<class 'str'>\n"
          ],
          "name": "stdout"
        }
      ]
    },
    {
      "cell_type": "code",
      "metadata": {
        "id": "OdUNAA7CZ4nl",
        "colab_type": "code",
        "colab": {
          "base_uri": "https://localhost:8080/",
          "height": 51
        },
        "outputId": "1a111ad1-ad72-4ab6-ef6e-952296709597"
      },
      "source": [
        "n1 = int(input(\"Enter your number - \"))\n",
        "print(n1,type(n1))\n"
      ],
      "execution_count": 11,
      "outputs": [
        {
          "output_type": "stream",
          "text": [
            "Enter your number - 221810308045\n",
            "221810308045 <class 'int'>\n"
          ],
          "name": "stdout"
        }
      ]
    },
    {
      "cell_type": "markdown",
      "metadata": {
        "id": "b2fdzG5fZ-tk",
        "colab_type": "text"
      },
      "source": [
        "#Arithmetic operators\n",
        "\n",
        "     + :- Add\n",
        "     / :- Divide (float)\n",
        "     - :- subtract\n",
        "     * :- Multiply\n",
        "     % :- Modulus\n",
        "    ** :- Power\n",
        "    // :- Divide (int)\n",
        "    "
      ]
    },
    {
      "cell_type": "code",
      "metadata": {
        "id": "xxHM9EaraVW2",
        "colab_type": "code",
        "colab": {
          "base_uri": "https://localhost:8080/",
          "height": 136
        },
        "outputId": "6809c769-363b-466d-b356-995e7a3ad4ba"
      },
      "source": [
        "n1=1234\n",
        "print(n1+10)\n",
        "print(n1-10)\n",
        "print(n1/10)##returns Quotient in float \n",
        "print(n1*10)\n",
        "print(n1%10)##returns remainder in float\n",
        "print(n1//10)##returns Quotient in int\n",
        "print(n1**10)"
      ],
      "execution_count": 12,
      "outputs": [
        {
          "output_type": "stream",
          "text": [
            "1244\n",
            "1224\n",
            "123.4\n",
            "12340\n",
            "4\n",
            "123\n",
            "8187505353567209228244052427776\n"
          ],
          "name": "stdout"
        }
      ]
    },
    {
      "cell_type": "markdown",
      "metadata": {
        "id": "UhiJ6KUbc7Nj",
        "colab_type": "text"
      },
      "source": [
        "###Precedence to arithmetic operations\n",
        " \n",
        "\n",
        "*   Paranthesis\n",
        "*   Power\n",
        "*   Multiplication\n",
        "*   Addition\n",
        "\n",
        "\n",
        "\n"
      ]
    },
    {
      "cell_type": "markdown",
      "metadata": {
        "id": "r8vq5vgne3VI",
        "colab_type": "text"
      },
      "source": [
        "###Left to right"
      ]
    },
    {
      "cell_type": "code",
      "metadata": {
        "id": "7Wn-phUzdSHT",
        "colab_type": "code",
        "colab": {
          "base_uri": "https://localhost:8080/",
          "height": 34
        },
        "outputId": "443a2c67-2311-4eb2-d996-4c669632fbba"
      },
      "source": [
        "x = 1 + 2 ** 3 / 4 + 5 \n",
        "# 1 + 8 / 4 + 5\n",
        "# 1 + 2.0 + 5\n",
        "# Power, division, Addition\n",
        "print(x)\n"
      ],
      "execution_count": 13,
      "outputs": [
        {
          "output_type": "stream",
          "text": [
            "8.0\n"
          ],
          "name": "stdout"
        }
      ]
    },
    {
      "cell_type": "code",
      "metadata": {
        "id": "t6tk3fEzfIo3",
        "colab_type": "code",
        "colab": {
          "base_uri": "https://localhost:8080/",
          "height": 34
        },
        "outputId": "74e99030-1214-47b7-a705-3f266db750e3"
      },
      "source": [
        "x = 1 + 2 ** 3 / 4 * 5\n",
        "# Power, division, Multiplication, Addition\n",
        "print(x)\n"
      ],
      "execution_count": 14,
      "outputs": [
        {
          "output_type": "stream",
          "text": [
            "11.0\n"
          ],
          "name": "stdout"
        }
      ]
    },
    {
      "cell_type": "markdown",
      "metadata": {
        "id": "uAs7CnwlfaX0",
        "colab_type": "text"
      },
      "source": [
        "### Relational Operators\n",
        "- ==\n",
        "- != \n",
        "- Greater ( > )\n",
        "- Less than ( < )\n",
        "- Less than or equal to ( <= )\n",
        "- greater than or equal ro ( >= )"
      ]
    },
    {
      "cell_type": "code",
      "metadata": {
        "id": "PF776tJNkPSj",
        "colab_type": "code",
        "colab": {
          "base_uri": "https://localhost:8080/",
          "height": 34
        },
        "outputId": "424c3227-d6e2-4234-80fe-60c1d910c7b0"
      },
      "source": [
        "a=10\n",
        "b=6\n",
        "a>=b\n",
        "print(a)\n",
        "\n"
      ],
      "execution_count": 15,
      "outputs": [
        {
          "output_type": "stream",
          "text": [
            "10\n"
          ],
          "name": "stdout"
        }
      ]
    },
    {
      "cell_type": "markdown",
      "metadata": {
        "id": "nkRbf8iGkiDo",
        "colab_type": "text"
      },
      "source": [
        "##Logical Operators\n",
        "\n",
        "\n",
        "\n",
        "*   and\n",
        "*   or\n",
        "*   \n",
        "*   List item\n",
        "\n",
        "\n"
      ]
    },
    {
      "cell_type": "code",
      "metadata": {
        "id": "lKIja-QOk-Va",
        "colab_type": "code",
        "colab": {
          "base_uri": "https://localhost:8080/",
          "height": 51
        },
        "outputId": "24f96cc6-cf95-443a-dfa9-d80c98c45a62"
      },
      "source": [
        "i=100\n",
        "a1= (i>=100)and(i<1000)\n",
        "a2= (i<50)or(i>50)\n",
        "print(a1)\n",
        "print(a2)"
      ],
      "execution_count": 16,
      "outputs": [
        {
          "output_type": "stream",
          "text": [
            "True\n",
            "True\n"
          ],
          "name": "stdout"
        }
      ]
    },
    {
      "cell_type": "markdown",
      "metadata": {
        "id": "RxOdY1iYlWEz",
        "colab_type": "text"
      },
      "source": [
        "##Control flow statements\n",
        "\n",
        "\n",
        "\n",
        "1.    Conditional statements\n",
        "\n",
        "2.   Looping statements\n",
        "\n",
        "\n",
        "#### if-else statement\n",
        "**Syntax**\n",
        "if boolean_condition: \n",
        "\n",
        "statements \n",
        "\n",
        "else :\n",
        "\n",
        "statements\n",
        "\n"
      ]
    },
    {
      "cell_type": "code",
      "metadata": {
        "id": "XdpsmqxJmgDN",
        "colab_type": "code",
        "colab": {
          "base_uri": "https://localhost:8080/",
          "height": 51
        },
        "outputId": "87b7d6bf-2477-4397-eb00-b30ec6866118"
      },
      "source": [
        "# To check given number is even or odd\n",
        "n = int(input(\"Enter a number - \"))\n",
        "if n % 2 == 0:\n",
        "    print(\"Even\")\n",
        "else :\n",
        "    print(\"Odd\")\n",
        "    "
      ],
      "execution_count": 17,
      "outputs": [
        {
          "output_type": "stream",
          "text": [
            "Enter a number - 12\n",
            "Even\n"
          ],
          "name": "stdout"
        }
      ]
    },
    {
      "cell_type": "code",
      "metadata": {
        "id": "aL3q4qW8nStU",
        "colab_type": "code",
        "colab": {
          "base_uri": "https://localhost:8080/",
          "height": 51
        },
        "outputId": "2c5c90e8-f4c0-44bf-fefb-fe1cbd81f22b"
      },
      "source": [
        "#to check if the number is a multiple of 3 and 5\n",
        "n=int(input(\"Enter a number - \"))\n",
        "if n%3 ==0 and n%5 == 0:\n",
        "  print(\"It is a multiple of 3 and 5\")\n",
        "else :\n",
        "  print (\"Not a multiple\")"
      ],
      "execution_count": 24,
      "outputs": [
        {
          "output_type": "stream",
          "text": [
            "Enter a number - 12\n",
            "Not a multiple\n"
          ],
          "name": "stdout"
        }
      ]
    },
    {
      "cell_type": "code",
      "metadata": {
        "id": "NjJ9cGwRolPB",
        "colab_type": "code",
        "colab": {
          "base_uri": "https://localhost:8080/",
          "height": 51
        },
        "outputId": "99124cb8-4be2-4986-8357-9bfd5a21d51a"
      },
      "source": [
        "#to check if a number is positive or negative\n",
        "n = int(input(\"Enter a number\"))\n",
        "if n==0:\n",
        "  print(\"Given number is zero\")\n",
        "elif n>0:\n",
        "  print(\"Number is a positive number\")\n",
        "elif n<0:\n",
        "      print(\"number is negative\")"
      ],
      "execution_count": 29,
      "outputs": [
        {
          "output_type": "stream",
          "text": [
            "Enter a number-16\n",
            "number is negative\n"
          ],
          "name": "stdout"
        }
      ]
    }
  ]
}