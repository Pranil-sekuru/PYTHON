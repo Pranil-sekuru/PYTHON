{
  "nbformat": 4,
  "nbformat_minor": 0,
  "metadata": {
    "colab": {
      "name": "Day 6.ipynb",
      "version": "0.3.2",
      "provenance": [],
      "collapsed_sections": [],
      "include_colab_link": true
    },
    "kernelspec": {
      "name": "python3",
      "display_name": "Python 3"
    }
  },
  "cells": [
    {
      "cell_type": "markdown",
      "metadata": {
        "id": "view-in-github",
        "colab_type": "text"
      },
      "source": [
        "<a href=\"https://colab.research.google.com/github/Pranil-sekuru/PYTHON/blob/master/Day_6.ipynb\" target=\"_parent\"><img src=\"https://colab.research.google.com/assets/colab-badge.svg\" alt=\"Open In Colab\"/></a>"
      ]
    },
    {
      "cell_type": "markdown",
      "metadata": {
        "id": "boiTAk10eYpq",
        "colab_type": "text"
      },
      "source": [
        "# iteration\n",
        "\n",
        "- while\n",
        "- for\n",
        "\n",
        "\n",
        "**Syntax**\n",
        " \n",
        "            while Boolean_condition\n",
        "                          statements\n",
        "                          increment/decrement \n",
        "            \n",
        "             \n"
      ]
    },
    {
      "cell_type": "code",
      "metadata": {
        "id": "QoMUW7eLfXii",
        "colab_type": "code",
        "outputId": "e9aa92ef-70e0-4f58-a9c7-36791b787a63",
        "colab": {
          "base_uri": "https://localhost:8080/",
          "height": 102
        }
      },
      "source": [
        "# example for while\n",
        " i=0\n",
        "while ( i<5 ) :\n",
        "    print(\"Gitam\")\n",
        "    i=i+1\n",
        "  "
      ],
      "execution_count": 0,
      "outputs": [
        {
          "output_type": "stream",
          "text": [
            "Gitam\n",
            "Gitam\n",
            "Gitam\n",
            "Gitam\n",
            "Gitam\n"
          ],
          "name": "stdout"
        }
      ]
    },
    {
      "cell_type": "code",
      "metadata": {
        "id": "Z1Nge28AhCQY",
        "colab_type": "code",
        "outputId": "42eebce7-8489-41b8-8959-6a8c91e29b2a",
        "colab": {
          "base_uri": "https://localhost:8080/",
          "height": 51
        }
      },
      "source": [
        "# print natural numbers \n",
        "n = int(input(\"Enter nth term \"))\n",
        "i = 1\n",
        "while (i<=n) :\n",
        "  print(i, end = \" \")\n",
        "  i=i+1"
      ],
      "execution_count": 0,
      "outputs": [
        {
          "output_type": "stream",
          "text": [
            "Enter nth term 10\n",
            "1 2 3 4 5 6 7 8 9 10 "
          ],
          "name": "stdout"
        }
      ]
    },
    {
      "cell_type": "code",
      "metadata": {
        "id": "uodyy_E0jq5d",
        "colab_type": "code",
        "outputId": "630df403-cbee-4aeb-959c-01183a677e8f",
        "colab": {
          "base_uri": "https://localhost:8080/",
          "height": 51
        }
      },
      "source": [
        "n = int(input(\"Enter nth term \"))\n",
        "i=0\n",
        "s = 0\n",
        "while (i <= n) :\n",
        "  s= s + i\n",
        "  i=i+2\n",
        "print(s)"
      ],
      "execution_count": 0,
      "outputs": [
        {
          "output_type": "stream",
          "text": [
            "Enter nth term 10\n",
            "30\n"
          ],
          "name": "stdout"
        }
      ]
    },
    {
      "cell_type": "code",
      "metadata": {
        "id": "JIw9ZORsnXJ7",
        "colab_type": "code",
        "outputId": "f3725073-e08a-4c60-9f51-92f8fc490f3a",
        "colab": {
          "base_uri": "https://localhost:8080/",
          "height": 51
        }
      },
      "source": [
        "n = int(input(\"Enter term \"))\n",
        "r = 0\n",
        "while ( n!=0 ) :\n",
        "  r = n % 10 \n",
        "  n = n // 10\n",
        "  print(r, end = \" \")"
      ],
      "execution_count": 0,
      "outputs": [
        {
          "output_type": "stream",
          "text": [
            "Enter term 123\n",
            "3 2 1 "
          ],
          "name": "stdout"
        }
      ]
    },
    {
      "cell_type": "markdown",
      "metadata": {
        "id": "imthHkKYsJ7x",
        "colab_type": "text"
      },
      "source": [
        "#Functional programming \n",
        "\n",
        "- Simple\n",
        "- Easy read\n",
        "- Lengthy program divides into subprograms"
      ]
    },
    {
      "cell_type": "markdown",
      "metadata": {
        "id": "ySgdtQ9ZshV4",
        "colab_type": "text"
      },
      "source": [
        "def name_Of_the_Function \n",
        "      \n",
        "           statements\n",
        "           return\n",
        "\n",
        "  "
      ]
    },
    {
      "cell_type": "code",
      "metadata": {
        "id": "wlITOhe2tYAs",
        "colab_type": "code",
        "outputId": "f1fbb0a9-a172-476b-e94b-0227f4c7fd3f",
        "colab": {
          "base_uri": "https://localhost:8080/",
          "height": 34
        }
      },
      "source": [
        "def addEvenDigits(n) :\n",
        "  sum = 0\n",
        "  while n != 0 :\n",
        "    r = n % 10\n",
        "    if r % 2 == 0 : \n",
        "       sum = sum + r\n",
        "    n= n // 10\n",
        "  print(\"Sum = \", sum)\n",
        "  return\n",
        "addEvenDigits(1234)"
      ],
      "execution_count": 0,
      "outputs": [
        {
          "output_type": "stream",
          "text": [
            "Sum =  6\n"
          ],
          "name": "stdout"
        }
      ]
    },
    {
      "cell_type": "code",
      "metadata": {
        "id": "X5mr-deq6CSf",
        "colab_type": "code",
        "outputId": "94727b25-d97b-44a5-f7d3-896769367f36",
        "colab": {
          "base_uri": "https://localhost:8080/",
          "height": 34
        }
      },
      "source": [
        "def printLarge(n) :\n",
        "  large = 0\n",
        "  while n != 0 :\n",
        "    r = n % 10\n",
        "    if large < r :\n",
        "      large = r\n",
        "    n = n // 10\n",
        "  return large \n",
        "printLarge(19528)"
      ],
      "execution_count": 0,
      "outputs": [
        {
          "output_type": "execute_result",
          "data": {
            "text/plain": [
              "9"
            ]
          },
          "metadata": {
            "tags": []
          },
          "execution_count": 29
        }
      ]
    },
    {
      "cell_type": "code",
      "metadata": {
        "id": "e7uy1hAU8X7G",
        "colab_type": "code",
        "outputId": "812254b1-b23e-4410-cd92-38d1ac7d421f",
        "colab": {
          "base_uri": "https://localhost:8080/",
          "height": 34
        }
      },
      "source": [
        "def reverseNumber(n) :\n",
        "    rev = 0\n",
        "    while ( n != 0 ) :\n",
        "      r = n % 10 \n",
        "      rev = rev * 10 + r\n",
        "      n = n // 10\n",
        "    return rev\n",
        "reverseNumber(1234)"
      ],
      "execution_count": 0,
      "outputs": [
        {
          "output_type": "execute_result",
          "data": {
            "text/plain": [
              "4321"
            ]
          },
          "metadata": {
            "tags": []
          },
          "execution_count": 51
        }
      ]
    },
    {
      "cell_type": "code",
      "metadata": {
        "id": "_Hw774eoBJUX",
        "colab_type": "code",
        "outputId": "463a64b1-e47b-41b5-d829-57213b155f3b",
        "colab": {
          "base_uri": "https://localhost:8080/",
          "height": 51
        }
      },
      "source": [
        "def isPalindrome(n) :\n",
        "    rev = 0\n",
        "    buffer = n\n",
        "    while n!=0 :\n",
        "      r = n % 10\n",
        "      rev = rev * 10 + r\n",
        "      n = n // 10\n",
        "    if buffer == rev :\n",
        "      return \"Yes\"\n",
        "    else :\n",
        "      return \"No\"\n",
        "print(isPalindrome(123))\n",
        "print(isPalindrome(121))"
      ],
      "execution_count": 63,
      "outputs": [
        {
          "output_type": "stream",
          "text": [
            "No\n",
            "Yes\n"
          ],
          "name": "stdout"
        }
      ]
    },
    {
      "cell_type": "code",
      "metadata": {
        "id": "FdR8SEOJFG7d",
        "colab_type": "code",
        "colab": {
          "base_uri": "https://localhost:8080/",
          "height": 34
        },
        "outputId": "51e3e377-8d38-498d-a5ad-49209e953083"
      },
      "source": [
        "n = 10\n",
        "for x in range(1,n+1) :\n",
        "  print(x, end = \" \")"
      ],
      "execution_count": 65,
      "outputs": [
        {
          "output_type": "stream",
          "text": [
            "1 2 3 4 5 6 7 8 9 10 "
          ],
          "name": "stdout"
        }
      ]
    },
    {
      "cell_type": "code",
      "metadata": {
        "id": "7RIFj6CxFclg",
        "colab_type": "code",
        "colab": {
          "base_uri": "https://localhost:8080/",
          "height": 68
        },
        "outputId": "b5a46240-5408-4566-f280-6deb3d1e5ee5"
      },
      "source": [
        "def printNo(a,b) :\n",
        "  for x in range(a,b) :\n",
        "    print(x, end = \" \")\n",
        "  return\n",
        "a= int(input(\"Enter lower rage \"))\n",
        "b= int(input(\"Enter upper range \"))\n",
        "printNo(a,b)"
      ],
      "execution_count": 3,
      "outputs": [
        {
          "output_type": "stream",
          "text": [
            "Enter lower rage 100\n",
            "Enter upper range 120\n",
            "100 101 102 103 104 105 106 107 108 109 110 111 112 113 114 115 116 117 118 119 "
          ],
          "name": "stdout"
        }
      ]
    },
    {
      "cell_type": "code",
      "metadata": {
        "id": "7V7HmlLyHFoi",
        "colab_type": "code",
        "colab": {
          "base_uri": "https://localhost:8080/",
          "height": 68
        },
        "outputId": "76876400-b547-409c-d742-e7c6b3e6e7ca"
      },
      "source": [
        "def altNo(a,b,x) :\n",
        "  for x in range(a,b+1,x) :\n",
        "    print(x, end = \" \")\n",
        "  return\n",
        "a= int(input(\"Enter lower rage \"))\n",
        "b= int(input(\"Enter upper range \"))\n",
        "x= int(input(\"Enter Gap between numbers \"))\n",
        "altNo(a,b,x)"
      ],
      "execution_count": 70,
      "outputs": [
        {
          "output_type": "stream",
          "text": [
            "\n",
            "KeyboardInterrupt\n",
            "\n"
          ],
          "name": "stderr"
        }
      ]
    },
    {
      "cell_type": "code",
      "metadata": {
        "id": "YlUHqgg3HvcE",
        "colab_type": "code",
        "colab": {
          "base_uri": "https://localhost:8080/",
          "height": 68
        },
        "outputId": "6b71b9c8-bf0a-4a38-cd01-c6f930df423b"
      },
      "source": [
        "def reverseNo(a,b) :\n",
        "  for x in range(b,a-1,-1) :\n",
        "    print(x,end = \" \")\n",
        "  return\n",
        "a= int(input(\"Enter lower rage \"))\n",
        "b= int(input(\"Enter upper range \"))\n",
        "reverseNo(a,b)"
      ],
      "execution_count": 2,
      "outputs": [
        {
          "output_type": "stream",
          "text": [
            "Enter lower rage 100\n",
            "Enter upper range 120\n",
            "120 119 118 117 116 115 114 113 112 111 110 109 108 107 106 105 104 103 102 101 100 "
          ],
          "name": "stdout"
        }
      ]
    }
  ]
}