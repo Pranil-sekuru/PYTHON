{
  "nbformat": 4,
  "nbformat_minor": 0,
  "metadata": {
    "colab": {
      "name": "8th July .ipynb",
      "version": "0.3.2",
      "provenance": [],
      "collapsed_sections": [],
      "include_colab_link": true
    },
    "kernelspec": {
      "name": "python3",
      "display_name": "Python 3"
    }
  },
  "cells": [
    {
      "cell_type": "markdown",
      "metadata": {
        "id": "view-in-github",
        "colab_type": "text"
      },
      "source": [
        "<a href=\"https://colab.research.google.com/github/Pranil-sekuru/PYTHON/blob/master/8th_July_.ipynb\" target=\"_parent\"><img src=\"https://colab.research.google.com/assets/colab-badge.svg\" alt=\"Open In Colab\"/></a>"
      ]
    },
    {
      "cell_type": "code",
      "metadata": {
        "id": "ffxPPlfNrond",
        "colab_type": "code",
        "outputId": "2a68470d-5b12-416a-b3fa-fe36162895a7",
        "colab": {
          "base_uri": "https://localhost:8080/",
          "height": 34
        }
      },
      "source": [
        "# Find the factors of a number \n",
        "def Factorslist(n) :\n",
        "  for i in range(1,n+1) :\n",
        "    if n % i == 0 :\n",
        "      print(i,end = \" \" )\n",
        "  return\n",
        "Factorslist(20)\n",
        "  "
      ],
      "execution_count": 0,
      "outputs": [
        {
          "output_type": "stream",
          "text": [
            "1 2 4 5 10 20 "
          ],
          "name": "stdout"
        }
      ]
    },
    {
      "cell_type": "markdown",
      "metadata": {
        "id": "8ruKU6KW0H2j",
        "colab_type": "text"
      },
      "source": [
        "[factorsList](https://drive.google.com/open?id=13YGBE5SA7abZh2Ln6nEF9mPB3umZJkoK)"
      ]
    },
    {
      "cell_type": "code",
      "metadata": {
        "id": "rdGVk40otLn5",
        "colab_type": "code",
        "outputId": "d1850ba6-c0f1-4a25-af6e-1a1d9bac4e8b",
        "colab": {
          "base_uri": "https://localhost:8080/",
          "height": 51
        }
      },
      "source": [
        "#If number is a prime number or not\n",
        "def primeNumber() :\n",
        "  n = int(input(\"Enter number \"))\n",
        "  flag = True\n",
        "  for i in range(2,n//2+1) :\n",
        "    if n % i == 0 :\n",
        "      flag = False\n",
        "      return flag\n",
        "  return flag\n",
        "primeNumber()\n",
        "\n",
        " \n",
        "  "
      ],
      "execution_count": 0,
      "outputs": [
        {
          "output_type": "stream",
          "text": [
            "Enter number 17\n"
          ],
          "name": "stdout"
        },
        {
          "output_type": "execute_result",
          "data": {
            "text/plain": [
              "True"
            ]
          },
          "metadata": {
            "tags": []
          },
          "execution_count": 17
        }
      ]
    },
    {
      "cell_type": "markdown",
      "metadata": {
        "id": "HnxUQ3YT5BQQ",
        "colab_type": "text"
      },
      "source": [
        "[primeNumber](https://drive.google.com/open?id=1hhbNar1R6Mou55U8U_tdFxQI5wRE5iYX)"
      ]
    },
    {
      "cell_type": "code",
      "metadata": {
        "id": "OSdSfkRgt9Xf",
        "colab_type": "code",
        "outputId": "986a179c-bfe4-4e54-9f4e-c4e55822a00b",
        "colab": {
          "base_uri": "https://localhost:8080/",
          "height": 51
        }
      },
      "source": [
        "# Function to find prime numbers cout from 1 to n\n",
        "def countPrime() :\n",
        "  n = int(input(\"Number of terms \"))\n",
        "  count = 0\n",
        "  for a in range(2,n + 1) :\n",
        "    k = 0\n",
        "    for i in range ( 2, a//2+1) :\n",
        "      if a % i == 0 :\n",
        "        k = k + 1\n",
        "    if (k <= 0) : \n",
        "      count = count + 1\n",
        "  return count \n",
        "countPrime()\n"
      ],
      "execution_count": 1,
      "outputs": [
        {
          "output_type": "stream",
          "text": [
            "Number of terms 10\n"
          ],
          "name": "stdout"
        },
        {
          "output_type": "execute_result",
          "data": {
            "text/plain": [
              "4"
            ]
          },
          "metadata": {
            "tags": []
          },
          "execution_count": 1
        }
      ]
    },
    {
      "cell_type": "markdown",
      "metadata": {
        "id": "zthENf3h5iWc",
        "colab_type": "text"
      },
      "source": [
        "[primeCount](https://drive.google.com/open?id=0B17Zo4wb7X2KWkE1VFZqNzFDUXVpZndMMm1XclliUzdkUkZn)"
      ]
    },
    {
      "cell_type": "code",
      "metadata": {
        "id": "LNBTelxp0HV0",
        "colab_type": "code",
        "outputId": "57a4902d-fe94-4d90-867e-7d890526aa22",
        "colab": {
          "base_uri": "https://localhost:8080/",
          "height": 34
        }
      },
      "source": [
        "# Function to state whether individual digts of a factorial is it's sum or not\n",
        "def Fact(n) :\n",
        "  fact = 1\n",
        "  for i in range(2,n+1) :\n",
        "    fact *= i\n",
        "  return fact \n",
        "def sumOfdigits(n) :\n",
        "  sum = 0\n",
        "  buffer = n\n",
        "  while n != 0 :\n",
        "    r = n % 10\n",
        "    sum += Fact(r)\n",
        "    n = n // 10\n",
        "  if sum == buffer :\n",
        "    return \"Yes\"\n",
        "  else :\n",
        "    return \"No\"\n",
        "  return \n",
        "\n",
        "sumOfdigits(123)\n",
        "sumOfdigits(145)\n",
        "  \n",
        "  \n",
        "  "
      ],
      "execution_count": 0,
      "outputs": [
        {
          "output_type": "execute_result",
          "data": {
            "text/plain": [
              "'Yes'"
            ]
          },
          "metadata": {
            "tags": []
          },
          "execution_count": 49
        }
      ]
    },
    {
      "cell_type": "code",
      "metadata": {
        "id": "UwPcHlzk94Ig",
        "colab_type": "code",
        "outputId": "a33f3766-dd9a-439f-c3eb-197a040cb14f",
        "colab": {
          "base_uri": "https://localhost:8080/",
          "height": 34
        }
      },
      "source": [
        "def countPalindrome(lb,ub) :\n",
        "  cnt = 0\n",
        "  while lb != ub :\n",
        "    #implement\n",
        "    if isPalindrome(lb) == True :\n",
        "      cnt = cnt + 1\n",
        "    lb = lb + 1\n",
        "  return cnt\n",
        "    \n",
        "    \n",
        "def isPalindrome(n) :\n",
        "  rev = 0\n",
        "  buffer = n\n",
        "  while n != 0 :\n",
        "    r = n % 10\n",
        "    rev = rev * 10 + r\n",
        "    n = n // 10\n",
        "  if rev == buffer :\n",
        "    return True \n",
        "  else :\n",
        "    return False\n",
        "  return\n",
        "\n",
        "countPalindrome(1,10)"
      ],
      "execution_count": 0,
      "outputs": [
        {
          "output_type": "execute_result",
          "data": {
            "text/plain": [
              "9"
            ]
          },
          "metadata": {
            "tags": []
          },
          "execution_count": 54
        }
      ]
    },
    {
      "cell_type": "markdown",
      "metadata": {
        "id": "RnoCdw7I6Dje",
        "colab_type": "text"
      },
      "source": [
        "[Palindrome count](https://drive.google.com/open?id=1t6SjyAOhJisXassQcbJ6gVTEzkzQ3gyd)"
      ]
    },
    {
      "cell_type": "code",
      "metadata": {
        "id": "VOPJqBGjBE90",
        "colab_type": "code",
        "colab": {}
      },
      "source": [
        "#Perfect number or not\n",
        "n = int(input(\"Enter a Number \"))\n",
        "def perfectNumber() :\n",
        "  sum = 0\n",
        "  for i in range (1,n+1) :\n",
        "    if n%i == 0 :\n",
        "      sum = sum + i\n",
        "      i = i + 1\n",
        "    else :\n",
        "      i = i + 1\n",
        "    return sum\n",
        "    if sum == n :\n",
        "      print(\"Number is a perfect number\")\n",
        "    else :\n",
        "      print(\"Not a perfect number\")\n",
        "    return\n",
        "\n",
        "    \n",
        "perfectNumber()\n",
        "  "
      ],
      "execution_count": 0,
      "outputs": []
    },
    {
      "cell_type": "code",
      "metadata": {
        "id": "9GtvwDTHEu_9",
        "colab_type": "code",
        "colab": {}
      },
      "source": [
        "def isPerfect(n) :\n",
        "  if factorsList(n) == n :\n",
        "    return True"
      ],
      "execution_count": 0,
      "outputs": []
    },
    {
      "cell_type": "markdown",
      "metadata": {
        "id": "n9EUH3y3aD_u",
        "colab_type": "text"
      },
      "source": [
        "##Strings in python\n",
        "\n",
        "- strings\n",
        "- strng arrays\n",
        "- string slicing\n"
      ]
    },
    {
      "cell_type": "code",
      "metadata": {
        "id": "UD3H_Xb6aM3q",
        "colab_type": "code",
        "outputId": "3988230f-e93b-46c1-b669-571d031c5f93",
        "colab": {
          "base_uri": "https://localhost:8080/",
          "height": 289
        }
      },
      "source": [
        "s1 = 'Python'\n",
        "print(s1)\n",
        "print(type(s1))\n",
        "print(s1[3])\n",
        "print(len(s1))\n",
        "print(s1[len(s1)-1])\n",
        "print(s1[-1])\n",
        "print(s1[-6])\n",
        "print(s1[0:2])\n",
        "print(s1[1:2])\n",
        "print(s1[-3:])\n",
        "print(s1[2:])\n",
        "print(s1[1:-1])\n",
        "print(s1[-1::-1])\n",
        "print(s1[::3])\n",
        "print(s1[::2])\n",
        "print(s1[::-2])\n"
      ],
      "execution_count": 0,
      "outputs": [
        {
          "output_type": "stream",
          "text": [
            "Python\n",
            "<class 'str'>\n",
            "h\n",
            "6\n",
            "n\n",
            "n\n",
            "P\n",
            "Py\n",
            "y\n",
            "hon\n",
            "thon\n",
            "ytho\n",
            "nohtyP\n",
            "Ph\n",
            "Pto\n",
            "nhy\n"
          ],
          "name": "stdout"
        }
      ]
    },
    {
      "cell_type": "code",
      "metadata": {
        "id": "7Ms5-f9NfUb1",
        "colab_type": "code",
        "outputId": "91dc6db7-5a34-4809-c2fa-374ddce5a64f",
        "colab": {
          "base_uri": "https://localhost:8080/",
          "height": 51
        }
      },
      "source": [
        "def isPalindrome(str) :\n",
        "  if str == str[::-1] :\n",
        "    return True\n",
        "  else :\n",
        "    return False\n",
        "print(isPalindrome('Python'))\n",
        "print(isPalindrome('EYE'))\n"
      ],
      "execution_count": 0,
      "outputs": [
        {
          "output_type": "stream",
          "text": [
            "False\n",
            "True\n"
          ],
          "name": "stdout"
        }
      ]
    },
    {
      "cell_type": "markdown",
      "metadata": {
        "id": "DxnCPQt3v5RH",
        "colab_type": "text"
      },
      "source": [
        "## ASCII \n",
        "\n",
        "- A - Z : 65 - 90\n",
        "- a - z : 97 - 122\n",
        "- 0 - 9 : 48 - 57\n",
        "- Space : 32"
      ]
    },
    {
      "cell_type": "code",
      "metadata": {
        "id": "OBNo8zu4wmon",
        "colab_type": "code",
        "outputId": "fe08eefe-4db3-402d-cf32-4870f7dbebbc",
        "colab": {
          "base_uri": "https://localhost:8080/",
          "height": 51
        }
      },
      "source": [
        "# Printing upper case\n",
        "def printuppercase(s) :\n",
        "  for i in range(len(s)) :\n",
        "    if ord(s[i]) >= 65 and ord(s[i])<=90 :\n",
        "      print(s[i])\n",
        "  return \n",
        "printuppercase(\"PyThon\")"
      ],
      "execution_count": 0,
      "outputs": [
        {
          "output_type": "stream",
          "text": [
            "P\n",
            "T\n"
          ],
          "name": "stdout"
        }
      ]
    },
    {
      "cell_type": "markdown",
      "metadata": {
        "id": "kpK-0yyVzmpv",
        "colab_type": "text"
      },
      "source": [
        "[Upper case](https://drive.google.com/open?id=1Wc8NmAQfxxTmjcm4Zu1lmyRSm6IGNACY)"
      ]
    },
    {
      "cell_type": "code",
      "metadata": {
        "id": "xebGNIjOyKWg",
        "colab_type": "code",
        "outputId": "63814389-1a25-4ed9-d3f5-97f60be71e49",
        "colab": {
          "base_uri": "https://localhost:8080/",
          "height": 51
        }
      },
      "source": [
        "# print \"Same count\" if count of upper and lower case is equal\n",
        "# or print \"Programming\" if otherwise\n",
        "\n",
        "def condition(s) :\n",
        "  ucnt = 0\n",
        "  lcnt = 0\n",
        "  for i in range(len(s)) :\n",
        "    if ord(s[i]) >= 65 and ord(s[i])<=90 :\n",
        "      ucnt += 1\n",
        "    elif ord(s[i]) >= 97 and ord(s[i]) <= 122 :\n",
        "      lcnt += 1\n",
        "  if ucnt == lcnt :\n",
        "    print(\"Same count\")\n",
        "  else :\n",
        "    print(\"Programming\")\n",
        "  return \n",
        "\n",
        "condition(\"PyThOn\")\n",
        "condition(\"PythoN\")\n"
      ],
      "execution_count": 0,
      "outputs": [
        {
          "output_type": "stream",
          "text": [
            "Same count\n",
            "Programming\n"
          ],
          "name": "stdout"
        }
      ]
    },
    {
      "cell_type": "markdown",
      "metadata": {
        "id": "U7SXrSDOzvvi",
        "colab_type": "text"
      },
      "source": [
        "[Count of character cases](https://drive.google.com/open?id=1IjJqgkPUGjzg9yLwGs9rPFTaAWk6SvxZ)"
      ]
    },
    {
      "cell_type": "code",
      "metadata": {
        "id": "2YtrGv4E34om",
        "colab_type": "code",
        "outputId": "d99f870f-da69-460d-ec54-6be28a018ea9",
        "colab": {
          "base_uri": "https://localhost:8080/",
          "height": 34
        }
      },
      "source": [
        "x= 10\n",
        "s = str(x)\n",
        "type(s)"
      ],
      "execution_count": 0,
      "outputs": [
        {
          "output_type": "execute_result",
          "data": {
            "text/plain": [
              "str"
            ]
          },
          "metadata": {
            "tags": []
          },
          "execution_count": 102
        }
      ]
    },
    {
      "cell_type": "code",
      "metadata": {
        "id": "COCnJonY4BkL",
        "colab_type": "code",
        "outputId": "d174f12c-cdb2-4d58-c6e4-f7c704b82de6",
        "colab": {
          "base_uri": "https://localhost:8080/",
          "height": 68
        }
      },
      "source": [
        "def condition(s) :\n",
        "  for i in range(len(s)) :\n",
        "    if ord(s[i]) >= 48 and ord(s[i])<=57 :\n",
        "      print(s[i])\n",
        "    return \n",
        "\n",
        "condition(\"applica8ion89\")"
      ],
      "execution_count": 0,
      "outputs": [
        {
          "output_type": "stream",
          "text": [
            "8\n",
            "8\n",
            "9\n"
          ],
          "name": "stdout"
        }
      ]
    },
    {
      "cell_type": "markdown",
      "metadata": {
        "id": "fGqGO3vCz46o",
        "colab_type": "text"
      },
      "source": [
        "[Digit Extraction](https://drive.google.com/open?id=1iw2MWoCiunIm_o_uB2HpUx5Lzf8wfSG7)"
      ]
    },
    {
      "cell_type": "code",
      "metadata": {
        "id": "Nq9R7aJk84cC",
        "colab_type": "code",
        "outputId": "15dee6ad-e493-4fc7-ccde-56446699fe90",
        "colab": {
          "base_uri": "https://localhost:8080/",
          "height": 34
        }
      },
      "source": [
        "def extract(s) :\n",
        "  sum = 0\n",
        "  for i in range(len(s)) :\n",
        "    if ord(s[i]) >= 48 and ord(s[i])<= 57 :\n",
        "          sum = sum + int(s[i])\n",
        "  return sum\n",
        "\n",
        "print(extract(\"Applica8ion89\"))"
      ],
      "execution_count": 0,
      "outputs": [
        {
          "output_type": "stream",
          "text": [
            "25\n"
          ],
          "name": "stdout"
        }
      ]
    },
    {
      "cell_type": "markdown",
      "metadata": {
        "id": "G5yD37v4z_UE",
        "colab_type": "text"
      },
      "source": [
        "[Sum of digit extraction](https://drive.google.com/open?id=1PBbI5UCm1JhxvLnw-NSY3hbTulXYH6jw)"
      ]
    },
    {
      "cell_type": "code",
      "metadata": {
        "id": "8T7IbZyqAFkT",
        "colab_type": "code",
        "outputId": "3e6b1833-0f7e-46d4-efa9-19a5b2bcbee5",
        "colab": {
          "base_uri": "https://localhost:8080/",
          "height": 51
        }
      },
      "source": [
        "def word(s) :\n",
        "  print(s)\n",
        "  cnt = 0\n",
        "  for i in range(len(s)) :\n",
        "    if ord(s[i]) == 32 :\n",
        "      cnt = cnt + 1\n",
        "    if cnt == 1 :\n",
        "      if ord(s[i]) >= 65 and ord(s[i])<=90 :\n",
        "        print(s[i], end = \" \")\n",
        "      elif ord(s[i]) >= 97 and ord(s[i]) <= 122 :\n",
        "        print(chr(ord(s[i])-32), end = \" \")\n",
        "    if cnt == 2 :\n",
        "      break\n",
        "  return\n",
        "  \n",
        "word('Python made Easy')\n"
      ],
      "execution_count": 0,
      "outputs": [
        {
          "output_type": "stream",
          "text": [
            "Python made Easy\n",
            "M A D E "
          ],
          "name": "stdout"
        }
      ]
    },
    {
      "cell_type": "markdown",
      "metadata": {
        "id": "pX_PqUZq0EWu",
        "colab_type": "text"
      },
      "source": [
        "[Printing 2 word](https://drive.google.com/open?id=1iqrAXQm9qlSCUZ5laMulclgGNz-Q2sSJ)"
      ]
    }
  ]
}