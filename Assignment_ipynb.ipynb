{
  "nbformat": 4,
  "nbformat_minor": 0,
  "metadata": {
    "colab": {
      "name": "Assignment. ipynb",
      "version": "0.3.2",
      "provenance": [],
      "collapsed_sections": [],
      "include_colab_link": true
    },
    "kernelspec": {
      "name": "python3",
      "display_name": "Python 3"
    }
  },
  "cells": [
    {
      "cell_type": "markdown",
      "metadata": {
        "id": "view-in-github",
        "colab_type": "text"
      },
      "source": [
        "<a href=\"https://colab.research.google.com/github/Pranil-sekuru/PYTHON/blob/master/Assignment_ipynb.ipynb\" target=\"_parent\"><img src=\"https://colab.research.google.com/assets/colab-badge.svg\" alt=\"Open In Colab\"/></a>"
      ]
    },
    {
      "cell_type": "code",
      "metadata": {
        "id": "mE_P76yqM94I",
        "colab_type": "code",
        "colab": {
          "base_uri": "https://localhost:8080/",
          "height": 51
        },
        "outputId": "9474f5b8-357a-4506-dc75-d6f9a78a915e"
      },
      "source": [
        "def large() :\n",
        "  \n",
        "  n = int(input(\"Enter a Number :\"))\n",
        "  x = 0\n",
        "  while n > 0:\n",
        "      r = n % 10\n",
        "      if x < r:\n",
        "        x = r\n",
        "      n = (n // 10)\n",
        "  print(\"Largest digit in the number is :\", x )\n",
        "  return\n",
        "\n",
        "large()\n",
        "\n"
      ],
      "execution_count": 5,
      "outputs": [
        {
          "output_type": "stream",
          "text": [
            "Enter a Number :195263\n",
            "Largest digit in the number is : 9\n"
          ],
          "name": "stdout"
        }
      ]
    },
    {
      "cell_type": "code",
      "metadata": {
        "id": "sFAt5lowO1fN",
        "colab_type": "code",
        "colab": {
          "base_uri": "https://localhost:8080/",
          "height": 51
        },
        "outputId": "40d6540a-8787-43ba-e094-784f742706cc"
      },
      "source": [
        "def Count(a,b) :\n",
        "  count = 0\n",
        "  for i in range(a,b+1) :\n",
        "    x = i\n",
        "    rev = 0\n",
        "    while i > 0 :\n",
        "      r = i % 10\n",
        "      rev = rev * 10 + r\n",
        "      i = i // 10\n",
        "    if rev == x :\n",
        "      count = count + 1\n",
        "  return count\n",
        "\n",
        "C=Count(1,10)\n",
        "print(\"Count = \",C)\n",
        "C=Count(11,100)\n",
        "print(\"Count = \",C)\n"
      ],
      "execution_count": 7,
      "outputs": [
        {
          "output_type": "stream",
          "text": [
            "Count =  9\n",
            "Count =  9\n"
          ],
          "name": "stdout"
        }
      ]
    }
  ]
}